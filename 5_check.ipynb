{
 "cells": [
  {
   "cell_type": "markdown",
   "id": "6aab75d8",
   "metadata": {},
   "source": [
    "## 5의 norm_wight_cate의 총계를 검사합니다. "
   ]
  },
  {
   "cell_type": "markdown",
   "id": "c54022b7",
   "metadata": {},
   "source": [
    "### 이슈 : norn_weight_cate의 총합을 구하니 1이 아닌 값이 나오는 이상치가 존재한다.  \n",
    "하지만 weight_cate를 unique한 uid개수로 나누면서 소수점이 생기고,이 소수점이 무제한 기록이 안되고, 거기에서 총합을 구하니 1의 값이 아닌 이상치가 존재하게 되는거다. 하지만 1에 아주 근접한 값이고, 소수점상의 오류이므로 이번은 넘어간다. 총계를 1로 만들고 싶으면..........(생략..)"
   ]
  },
  {
   "cell_type": "code",
   "execution_count": 1,
   "id": "6d184f73",
   "metadata": {},
   "outputs": [],
   "source": [
    "# import modules\n",
    "import pymysql\n",
    "from sqlalchemy import create_engine\n",
    "import pandas as pd\n",
    "from pandas.io import sql\n",
    "import datetime\n",
    "import pandas as pd\n",
    "import pandasql as ps"
   ]
  },
  {
   "cell_type": "code",
   "execution_count": 2,
   "id": "8096bc30",
   "metadata": {},
   "outputs": [
    {
     "name": "stdout",
     "output_type": "stream",
     "text": [
      "시작: 2024-03-08 09:32:26.420294\n",
      "종료: 2024-03-08 09:32:33.025107\n"
     ]
    }
   ],
   "source": [
    "# reading \n",
    "now = datetime.datetime.now() \n",
    "print('시작:', now)\n",
    "five_all = pd.read_csv('./final/five/cluster_cate_weight_publevel/five_allyear.txt', sep='\\t')\n",
    "five_by_year = pd.read_csv('./final/five/cluster_cate_weight_publevel/five_by_year.txt', sep='\\t')\n",
    "now = datetime.datetime.now()\n",
    "print('종료:', now)"
   ]
  },
  {
   "cell_type": "code",
   "execution_count": 9,
   "id": "3c2c8b9e",
   "metadata": {},
   "outputs": [],
   "source": [
    "check1= five_all.groupby(['cluster_id'])['norm_weight_cate'].sum().reset_index(name='sum_weight')"
   ]
  },
  {
   "cell_type": "code",
   "execution_count": 10,
   "id": "60848629",
   "metadata": {},
   "outputs": [
    {
     "data": {
      "text/html": [
       "<div>\n",
       "<style scoped>\n",
       "    .dataframe tbody tr th:only-of-type {\n",
       "        vertical-align: middle;\n",
       "    }\n",
       "\n",
       "    .dataframe tbody tr th {\n",
       "        vertical-align: top;\n",
       "    }\n",
       "\n",
       "    .dataframe thead th {\n",
       "        text-align: right;\n",
       "    }\n",
       "</style>\n",
       "<table border=\"1\" class=\"dataframe\">\n",
       "  <thead>\n",
       "    <tr style=\"text-align: right;\">\n",
       "      <th></th>\n",
       "      <th>cluster_id</th>\n",
       "      <th>sum_weight</th>\n",
       "    </tr>\n",
       "  </thead>\n",
       "  <tbody>\n",
       "    <tr>\n",
       "      <th>0</th>\n",
       "      <td>1</td>\n",
       "      <td>1.0</td>\n",
       "    </tr>\n",
       "    <tr>\n",
       "      <th>1</th>\n",
       "      <td>2</td>\n",
       "      <td>1.0</td>\n",
       "    </tr>\n",
       "    <tr>\n",
       "      <th>2</th>\n",
       "      <td>3</td>\n",
       "      <td>1.0</td>\n",
       "    </tr>\n",
       "    <tr>\n",
       "      <th>3</th>\n",
       "      <td>4</td>\n",
       "      <td>1.0</td>\n",
       "    </tr>\n",
       "    <tr>\n",
       "      <th>4</th>\n",
       "      <td>5</td>\n",
       "      <td>1.0</td>\n",
       "    </tr>\n",
       "    <tr>\n",
       "      <th>...</th>\n",
       "      <td>...</td>\n",
       "      <td>...</td>\n",
       "    </tr>\n",
       "    <tr>\n",
       "      <th>4210</th>\n",
       "      <td>4211</td>\n",
       "      <td>1.0</td>\n",
       "    </tr>\n",
       "    <tr>\n",
       "      <th>4211</th>\n",
       "      <td>4212</td>\n",
       "      <td>1.0</td>\n",
       "    </tr>\n",
       "    <tr>\n",
       "      <th>4212</th>\n",
       "      <td>4213</td>\n",
       "      <td>1.0</td>\n",
       "    </tr>\n",
       "    <tr>\n",
       "      <th>4213</th>\n",
       "      <td>4214</td>\n",
       "      <td>1.0</td>\n",
       "    </tr>\n",
       "    <tr>\n",
       "      <th>4214</th>\n",
       "      <td>4215</td>\n",
       "      <td>1.0</td>\n",
       "    </tr>\n",
       "  </tbody>\n",
       "</table>\n",
       "<p>4215 rows × 2 columns</p>\n",
       "</div>"
      ],
      "text/plain": [
       "      cluster_id  sum_weight\n",
       "0              1         1.0\n",
       "1              2         1.0\n",
       "2              3         1.0\n",
       "3              4         1.0\n",
       "4              5         1.0\n",
       "...          ...         ...\n",
       "4210        4211         1.0\n",
       "4211        4212         1.0\n",
       "4212        4213         1.0\n",
       "4213        4214         1.0\n",
       "4214        4215         1.0\n",
       "\n",
       "[4215 rows x 2 columns]"
      ]
     },
     "execution_count": 10,
     "metadata": {},
     "output_type": "execute_result"
    }
   ],
   "source": [
    "check1"
   ]
  },
  {
   "cell_type": "code",
   "execution_count": 11,
   "id": "3cbd4705",
   "metadata": {},
   "outputs": [],
   "source": [
    "check2 = five_by_year.groupby(['cluster_id', 'pubyear'])['norm_weight_cate'].sum().reset_index(name='sum_weight')"
   ]
  },
  {
   "cell_type": "code",
   "execution_count": 12,
   "id": "07393cf5",
   "metadata": {},
   "outputs": [
    {
     "data": {
      "text/html": [
       "<div>\n",
       "<style scoped>\n",
       "    .dataframe tbody tr th:only-of-type {\n",
       "        vertical-align: middle;\n",
       "    }\n",
       "\n",
       "    .dataframe tbody tr th {\n",
       "        vertical-align: top;\n",
       "    }\n",
       "\n",
       "    .dataframe thead th {\n",
       "        text-align: right;\n",
       "    }\n",
       "</style>\n",
       "<table border=\"1\" class=\"dataframe\">\n",
       "  <thead>\n",
       "    <tr style=\"text-align: right;\">\n",
       "      <th></th>\n",
       "      <th>cluster_id</th>\n",
       "      <th>pubyear</th>\n",
       "      <th>sum_weight</th>\n",
       "    </tr>\n",
       "  </thead>\n",
       "  <tbody>\n",
       "    <tr>\n",
       "      <th>0</th>\n",
       "      <td>1</td>\n",
       "      <td>2006</td>\n",
       "      <td>1.0</td>\n",
       "    </tr>\n",
       "    <tr>\n",
       "      <th>1</th>\n",
       "      <td>1</td>\n",
       "      <td>2007</td>\n",
       "      <td>1.0</td>\n",
       "    </tr>\n",
       "    <tr>\n",
       "      <th>2</th>\n",
       "      <td>1</td>\n",
       "      <td>2008</td>\n",
       "      <td>1.0</td>\n",
       "    </tr>\n",
       "    <tr>\n",
       "      <th>3</th>\n",
       "      <td>1</td>\n",
       "      <td>2009</td>\n",
       "      <td>1.0</td>\n",
       "    </tr>\n",
       "    <tr>\n",
       "      <th>4</th>\n",
       "      <td>1</td>\n",
       "      <td>2010</td>\n",
       "      <td>1.0</td>\n",
       "    </tr>\n",
       "    <tr>\n",
       "      <th>...</th>\n",
       "      <td>...</td>\n",
       "      <td>...</td>\n",
       "      <td>...</td>\n",
       "    </tr>\n",
       "    <tr>\n",
       "      <th>67377</th>\n",
       "      <td>4215</td>\n",
       "      <td>2017</td>\n",
       "      <td>1.0</td>\n",
       "    </tr>\n",
       "    <tr>\n",
       "      <th>67378</th>\n",
       "      <td>4215</td>\n",
       "      <td>2018</td>\n",
       "      <td>1.0</td>\n",
       "    </tr>\n",
       "    <tr>\n",
       "      <th>67379</th>\n",
       "      <td>4215</td>\n",
       "      <td>2019</td>\n",
       "      <td>1.0</td>\n",
       "    </tr>\n",
       "    <tr>\n",
       "      <th>67380</th>\n",
       "      <td>4215</td>\n",
       "      <td>2020</td>\n",
       "      <td>1.0</td>\n",
       "    </tr>\n",
       "    <tr>\n",
       "      <th>67381</th>\n",
       "      <td>4215</td>\n",
       "      <td>2021</td>\n",
       "      <td>1.0</td>\n",
       "    </tr>\n",
       "  </tbody>\n",
       "</table>\n",
       "<p>67382 rows × 3 columns</p>\n",
       "</div>"
      ],
      "text/plain": [
       "       cluster_id  pubyear  sum_weight\n",
       "0               1     2006         1.0\n",
       "1               1     2007         1.0\n",
       "2               1     2008         1.0\n",
       "3               1     2009         1.0\n",
       "4               1     2010         1.0\n",
       "...           ...      ...         ...\n",
       "67377        4215     2017         1.0\n",
       "67378        4215     2018         1.0\n",
       "67379        4215     2019         1.0\n",
       "67380        4215     2020         1.0\n",
       "67381        4215     2021         1.0\n",
       "\n",
       "[67382 rows x 3 columns]"
      ]
     },
     "execution_count": 12,
     "metadata": {},
     "output_type": "execute_result"
    }
   ],
   "source": [
    "check2"
   ]
  },
  {
   "cell_type": "code",
   "execution_count": 15,
   "id": "9bc441d6",
   "metadata": {},
   "outputs": [],
   "source": [
    "check1.to_excel('./check/five_all.xlsx', index=False)\n",
    "check2.to_excel('./check/five_by_year.xlsx', index=False)"
   ]
  },
  {
   "cell_type": "code",
   "execution_count": 13,
   "id": "10e30602",
   "metadata": {},
   "outputs": [
    {
     "name": "stdout",
     "output_type": "stream",
     "text": [
      "sum_weight\n",
      "1.000000    127\n",
      "1.000000    125\n",
      "1.000000    122\n",
      "1.000000    116\n",
      "1.000000    111\n",
      "           ... \n",
      "1.000100      1\n",
      "1.000104      1\n",
      "1.000124      1\n",
      "1.000412      1\n",
      "1.005882      1\n",
      "Name: count, Length: 249, dtype: int64\n"
     ]
    }
   ],
   "source": [
    "# 컬럼에 포함된 고유한 값들과 그 빈도수를 확인\n",
    "unique_values_counts_sum_weight1 = check1['sum_weight'].value_counts()\n",
    "print(unique_values_counts_sum_weight1)"
   ]
  },
  {
   "cell_type": "code",
   "execution_count": 14,
   "id": "1eff0a24",
   "metadata": {},
   "outputs": [
    {
     "name": "stdout",
     "output_type": "stream",
     "text": [
      "sum_weight\n",
      "1.000000    2860\n",
      "1.000000    2761\n",
      "1.000000    2615\n",
      "1.000000    2582\n",
      "1.000000    2490\n",
      "            ... \n",
      "1.001592       1\n",
      "1.001148       1\n",
      "1.001304       1\n",
      "1.001125       1\n",
      "1.111111       1\n",
      "Name: count, Length: 266, dtype: int64\n"
     ]
    }
   ],
   "source": [
    "#컬럼에 포함된 고유한 값들과 그 빈도수를 확인\n",
    "unique_values_counts_sum_weight2 = check2['sum_weight'].value_counts()\n",
    "print(unique_values_counts_sum_weight2)"
   ]
 
  },
  {
   "cell_type": "code",
   "execution_count": null,
   "id": "2e705331",
   "metadata": {},
   "outputs": [],
   "source": [
    "five_all\n",
    "five_all_wide\n",
    "five_by_year\n",
    "five_byyear_wide"
   ]
  }
 ],
 "metadata": {
  "kernelspec": {
   "display_name": "Python 3 (ipykernel)",
   "language": "python",
   "name": "python3"
  },
  "language_info": {
   "codemirror_mode": {
    "name": "ipython",
    "version": 3
   },
   "file_extension": ".py",
   "mimetype": "text/x-python",
   "name": "python",
   "nbconvert_exporter": "python",
   "pygments_lexer": "ipython3",
   "version": "3.11.5"
  }
 },
 "nbformat": 4,
 "nbformat_minor": 5
}
