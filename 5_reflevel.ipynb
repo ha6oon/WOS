{
 "cells": [
  {
   "cell_type": "markdown",
   "id": "21497649",
   "metadata": {},
   "source": [
    "## 아래는 코드 샘플입니다. cluster_cate_weight_reflevel 작업은 일시 보류입니다."
   ]
  },
  {
   "cell_type": "code",
   "execution_count": 1,
   "id": "3d14a215",
   "metadata": {},
   "outputs": [],
   "source": [
    "# import modules\n",
    "import pymysql\n",
    "from sqlalchemy import create_engine\n",
    "import pandas as pd\n",
    "from pandas.io import sql\n",
    "import datetime\n",
    "import pandas as pd\n",
    "import pandasql as ps"
   ]
  },
  {
   "cell_type": "code",
   "execution_count": 2,
   "id": "4b159391",
   "metadata": {},
   "outputs": [
    {
     "name": "stdout",
     "output_type": "stream",
     "text": [
      "시작: 2024-03-14 09:48:19.471280\n",
      "종료: 2024-03-14 10:10:56.482976\n"
     ]
    }
   ],
   "source": [
    "# reading \n",
    "now = datetime.datetime.now() \n",
    "print('시작:', now)\n",
    "four_1 = pd.read_csv('./final/four/final_four_11.txt', sep='\\t')\n",
    "four_2 = pd.read_csv('./final/four/final_four_22.txt', sep='\\t')\n",
    "four_3 = pd.read_csv('./final/four/final_four_33.txt', sep='\\t')\n",
    "\n",
    "now = datetime.datetime.now()\n",
    "print('종료:', now)"
   ]
  },
  {
   "cell_type": "code",
   "execution_count": 4,
   "id": "a49e80c0",
   "metadata": {},
   "outputs": [
    {
     "data": {
      "text/html": [
       "<div>\n",
       "<style scoped>\n",
       "    .dataframe tbody tr th:only-of-type {\n",
       "        vertical-align: middle;\n",
       "    }\n",
       "\n",
       "    .dataframe tbody tr th {\n",
       "        vertical-align: top;\n",
       "    }\n",
       "\n",
       "    .dataframe thead th {\n",
       "        text-align: right;\n",
       "    }\n",
       "</style>\n",
       "<table border=\"1\" class=\"dataframe\">\n",
       "  <thead>\n",
       "    <tr style=\"text-align: right;\">\n",
       "      <th></th>\n",
       "      <th>uid</th>\n",
       "      <th>cluster_id</th>\n",
       "      <th>pubyear</th>\n",
       "      <th>ref_n</th>\n",
       "      <th>refs_uid</th>\n",
       "      <th>cate_n</th>\n",
       "      <th>subject_traditional</th>\n",
       "      <th>within_core</th>\n",
       "    </tr>\n",
       "  </thead>\n",
       "  <tbody>\n",
       "    <tr>\n",
       "      <th>0</th>\n",
       "      <td>WOS:000345609800009</td>\n",
       "      <td>30</td>\n",
       "      <td>2014</td>\n",
       "      <td>73</td>\n",
       "      <td>WOS:000205970500001</td>\n",
       "      <td>1</td>\n",
       "      <td>Law</td>\n",
       "      <td>0</td>\n",
       "    </tr>\n",
       "    <tr>\n",
       "      <th>1</th>\n",
       "      <td>WOS:000434794200003</td>\n",
       "      <td>30</td>\n",
       "      <td>2018</td>\n",
       "      <td>90</td>\n",
       "      <td>WOS:000205970500001</td>\n",
       "      <td>1</td>\n",
       "      <td>Law</td>\n",
       "      <td>0</td>\n",
       "    </tr>\n",
       "    <tr>\n",
       "      <th>2</th>\n",
       "      <td>WOS:000528191500001</td>\n",
       "      <td>30</td>\n",
       "      <td>2020</td>\n",
       "      <td>150</td>\n",
       "      <td>WOS:000205970500001</td>\n",
       "      <td>1</td>\n",
       "      <td>Law</td>\n",
       "      <td>0</td>\n",
       "    </tr>\n",
       "    <tr>\n",
       "      <th>3</th>\n",
       "      <td>WOS:000239862800001</td>\n",
       "      <td>911</td>\n",
       "      <td>2006</td>\n",
       "      <td>72</td>\n",
       "      <td>WOS:000200960000105</td>\n",
       "      <td>1</td>\n",
       "      <td>Biology</td>\n",
       "      <td>0</td>\n",
       "    </tr>\n",
       "    <tr>\n",
       "      <th>4</th>\n",
       "      <td>WOS:000653082100007</td>\n",
       "      <td>1351</td>\n",
       "      <td>2021</td>\n",
       "      <td>126</td>\n",
       "      <td>WOS:000188572100001</td>\n",
       "      <td>1</td>\n",
       "      <td>Geology</td>\n",
       "      <td>0</td>\n",
       "    </tr>\n",
       "    <tr>\n",
       "      <th>...</th>\n",
       "      <td>...</td>\n",
       "      <td>...</td>\n",
       "      <td>...</td>\n",
       "      <td>...</td>\n",
       "      <td>...</td>\n",
       "      <td>...</td>\n",
       "      <td>...</td>\n",
       "      <td>...</td>\n",
       "    </tr>\n",
       "    <tr>\n",
       "      <th>339005379</th>\n",
       "      <td>WOS:000270542600008</td>\n",
       "      <td>2367</td>\n",
       "      <td>2009</td>\n",
       "      <td>41</td>\n",
       "      <td>WOS:000166171000038</td>\n",
       "      <td>1</td>\n",
       "      <td>Chemistry, Multidisciplinary</td>\n",
       "      <td>0</td>\n",
       "    </tr>\n",
       "    <tr>\n",
       "      <th>339005380</th>\n",
       "      <td>WOS:000257408200022</td>\n",
       "      <td>3252</td>\n",
       "      <td>2008</td>\n",
       "      <td>66</td>\n",
       "      <td>WOS:000166171000038</td>\n",
       "      <td>1</td>\n",
       "      <td>Chemistry, Multidisciplinary</td>\n",
       "      <td>0</td>\n",
       "    </tr>\n",
       "    <tr>\n",
       "      <th>339005381</th>\n",
       "      <td>WOS:000286110900041</td>\n",
       "      <td>3308</td>\n",
       "      <td>2011</td>\n",
       "      <td>31</td>\n",
       "      <td>WOS:000166171000038</td>\n",
       "      <td>1</td>\n",
       "      <td>Chemistry, Multidisciplinary</td>\n",
       "      <td>0</td>\n",
       "    </tr>\n",
       "    <tr>\n",
       "      <th>339005382</th>\n",
       "      <td>WOS:000329578200008</td>\n",
       "      <td>1749</td>\n",
       "      <td>2014</td>\n",
       "      <td>25</td>\n",
       "      <td>WOS:000170752800038</td>\n",
       "      <td>1</td>\n",
       "      <td>Radiology, Nuclear Medicine &amp; Medical Imaging</td>\n",
       "      <td>0</td>\n",
       "    </tr>\n",
       "    <tr>\n",
       "      <th>339005383</th>\n",
       "      <td>WOS:000427417600107</td>\n",
       "      <td>1749</td>\n",
       "      <td>2018</td>\n",
       "      <td>27</td>\n",
       "      <td>WOS:000170752800038</td>\n",
       "      <td>1</td>\n",
       "      <td>Radiology, Nuclear Medicine &amp; Medical Imaging</td>\n",
       "      <td>0</td>\n",
       "    </tr>\n",
       "  </tbody>\n",
       "</table>\n",
       "<p>339005384 rows × 8 columns</p>\n",
       "</div>"
      ],
      "text/plain": [
       "                           uid  cluster_id  pubyear  ref_n  \\\n",
       "0          WOS:000345609800009          30     2014     73   \n",
       "1          WOS:000434794200003          30     2018     90   \n",
       "2          WOS:000528191500001          30     2020    150   \n",
       "3          WOS:000239862800001         911     2006     72   \n",
       "4          WOS:000653082100007        1351     2021    126   \n",
       "...                        ...         ...      ...    ...   \n",
       "339005379  WOS:000270542600008        2367     2009     41   \n",
       "339005380  WOS:000257408200022        3252     2008     66   \n",
       "339005381  WOS:000286110900041        3308     2011     31   \n",
       "339005382  WOS:000329578200008        1749     2014     25   \n",
       "339005383  WOS:000427417600107        1749     2018     27   \n",
       "\n",
       "                      refs_uid  cate_n  \\\n",
       "0          WOS:000205970500001       1   \n",
       "1          WOS:000205970500001       1   \n",
       "2          WOS:000205970500001       1   \n",
       "3          WOS:000200960000105       1   \n",
       "4          WOS:000188572100001       1   \n",
       "...                        ...     ...   \n",
       "339005379  WOS:000166171000038       1   \n",
       "339005380  WOS:000166171000038       1   \n",
       "339005381  WOS:000166171000038       1   \n",
       "339005382  WOS:000170752800038       1   \n",
       "339005383  WOS:000170752800038       1   \n",
       "\n",
       "                                     subject_traditional  within_core  \n",
       "0                                                    Law            0  \n",
       "1                                                    Law            0  \n",
       "2                                                    Law            0  \n",
       "3                                                Biology            0  \n",
       "4                                                Geology            0  \n",
       "...                                                  ...          ...  \n",
       "339005379                   Chemistry, Multidisciplinary            0  \n",
       "339005380                   Chemistry, Multidisciplinary            0  \n",
       "339005381                   Chemistry, Multidisciplinary            0  \n",
       "339005382  Radiology, Nuclear Medicine & Medical Imaging            0  \n",
       "339005383  Radiology, Nuclear Medicine & Medical Imaging            0  \n",
       "\n",
       "[339005384 rows x 8 columns]"
      ]
     },
     "execution_count": 4,
     "metadata": {},
     "output_type": "execute_result"
    }
   ],
   "source": [
    "four_1"
   ]
  },
  {
   "cell_type": "markdown",
   "id": "58a9b049",
   "metadata": {},
   "source": [
    "uid별 subject_category가 몇개인지 나타내주는 sub_n 컬럼을 생성합니다."
   ]
  },
  {
   "cell_type": "code",
   "execution_count": 6,
   "id": "af1fc298",
   "metadata": {},
   "outputs": [
    {
     "name": "stdout",
     "output_type": "stream",
     "text": [
      "시작: 2024-03-14 11:20:11.220175\n",
      "종료: 2024-03-14 12:07:28.803653\n"
     ]
    }
   ],
   "source": [
    "now = datetime.datetime.now() \n",
    "print('시작:', now)\n",
    "\n",
    "four_1['sub_n'] = four_1.groupby('uid')['subject_traditional'].transform(lambda x: x.nunique())\n",
    "\n",
    "now = datetime.datetime.now()\n",
    "print('종료:', now)"
   ]
  },
  {
   "cell_type": "markdown",
   "id": "bfff3e7f",
   "metadata": {},
   "source": [
    "아래의 컬럼을 생성해줍니다.\n",
    "\n",
    "## w1 = 1 / (sub_n)  \n",
    "## w2 = 1 / (cate_n)  \n",
    "## w = w1 * w2  \n",
    "weight_cate : 한 클러스터 안에서 카테고리별(groupby) w를 합산(sum)한 값\n",
    "norm_weight_cate : weight_cate를 unique한 uid 개수로 나눈 값\n",
    "점검 : norm_weight_cate의 총계(sum)은 1이 되어야함."
   ]
  },
  {
   "cell_type": "markdown",
   "id": "31113335",
   "metadata": {},
   "source": [
    "아래는 코드 샘플입니다. cluster_cate_weight_reflevel 작업은 일시 보류입니다. "
   ]
  },
  {
   "cell_type": "code",
   "execution_count": 7,
   "id": "cc074640",
   "metadata": {},
   "outputs": [
    {
     "name": "stdout",
     "output_type": "stream",
     "text": [
      "시작: 2024-03-14 12:07:28.808287\n",
      "종료: 2024-03-14 12:07:30.639227\n"
     ]
    }
   ],
   "source": [
    "\n",
    "now = datetime.datetime.now() \n",
    "print('시작:', now)\n",
    "\n",
    "\n",
    "four_1['w1'] = 1 / four_1['sub_n']\n",
    "four_1['w2'] = 1 / four_1['cate_n']\n",
    "\n",
    "\n",
    "now = datetime.datetime.now()\n",
    "print('종료:', now)"
   ]
  },
  {
   "cell_type": "code",
   "execution_count": 8,
   "id": "f06ce345",
   "metadata": {},
   "outputs": [
    {
     "name": "stdout",
     "output_type": "stream",
     "text": [
      "시작: 2024-03-14 12:07:30.643090\n",
      "시작: 2024-03-14 12:07:44.507512\n"
     ]
    }
   ],
   "source": [
    "now = datetime.datetime.now() \n",
    "print('시작:', now)\n",
    "\n",
    "four_2['w'] = four_1['w1'] * four_1['w2']\n",
    "\n",
    "\n",
    "now = datetime.datetime.now() \n",
    "print('시작:', now)"
   ]
  },
  {
   "cell_type": "code",
   "execution_count": null,
   "id": "b07bc6f8",
   "metadata": {},
   "outputs": [],
   "source": [
    "# reading \n",
    "now = datetime.datetime.now() \n",
    "print('시작:', now)\n",
    "\n",
    "four_ = pd.read_csv('./final/four.txt', sep='\\t')\n",
    "\n",
    "\n",
    "now = datetime.datetime.now()\n",
    "print('종료:', now)"
   ]
  },
  {
   "cell_type": "markdown",
   "id": "31a1bcfc",
   "metadata": {},
   "source": [
    "four(4번째 데이터셋의 최종파일)를 메모리 때문에 불러오지 못합니다.  \n",
    "category embedding 작업은 cluster 단위로 aggregate하여 카테고리별 groupby를 해야합니다. 따라서 cluster_id 기준으로 분할하여 작업하는 방식이 있습니다. \n",
    "불러온 df들은('./final/four/final_four_11.txt', './final/four/final_four_22.txt', './final/four/final_four_33.txt') cluster_id 정렬이 안되어있습니다. 따라서 cluster_id 기준으로 분할 시에 추가 작업이 필요합니다. \n",
    "예를 들어, cluster_id 가 1~4xxx개 있는데, 4분할로 하여 3개의 df마다 쪼갭니다. 그 후 cluster_id 범위가 같은 파일을 병합합니다. -> weight계산합니다 -> 최종파일로 병합합니다.  "
   ]
  }
 ],
 "metadata": {
  "kernelspec": {
   "display_name": "Python 3 (ipykernel)",
   "language": "python",
   "name": "python3"
  },
  "language_info": {
   "codemirror_mode": {
    "name": "ipython",
    "version": 3
   },
   "file_extension": ".py",
   "mimetype": "text/x-python",
   "name": "python",
   "nbconvert_exporter": "python",
   "pygments_lexer": "ipython3",
   "version": "3.11.5"
  }
 },
 "nbformat": 4,
 "nbformat_minor": 5
}
