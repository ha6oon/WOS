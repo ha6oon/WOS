{
 "cells": [
  {
   "cell_type": "code",
   "execution_count": 1,
   "id": "e3c1dde4",
   "metadata": {},
   "outputs": [],
   "source": [
    "# import modules\n",
    "import pymysql\n",
    "from sqlalchemy import create_engine\n",
    "import pandas as pd\n",
    "from pandas.io import sql\n",
    "import datetime\n",
    "import pandas as pd\n"
   ]
  },
  {
   "cell_type": "code",
   "execution_count": 5,
   "id": "81c6ffdc",
   "metadata": {},
   "outputs": [
    {
     "name": "stdout",
     "output_type": "stream",
     "text": [
      "'ut' 열의 데이터 타입: int64\n"
     ]
    }
   ],
   "source": [
    "# 'ut' 열의 데이터 타입 확인\n",
    "data_type = df_loaded['ut'].dtype\n",
    "\n",
    "print(f\"'ut' 열의 데이터 타입: {data_type}\")"
   ]
  },
  {
   "cell_type": "code",
   "execution_count": 6,
   "id": "0a3774bc",
   "metadata": {},
   "outputs": [
    {
     "data": {
      "text/html": [
       "<div>\n",
       "<style scoped>\n",
       "    .dataframe tbody tr th:only-of-type {\n",
       "        vertical-align: middle;\n",
       "    }\n",
       "\n",
       "    .dataframe tbody tr th {\n",
       "        vertical-align: top;\n",
       "    }\n",
       "\n",
       "    .dataframe thead th {\n",
       "        text-align: right;\n",
       "    }\n",
       "</style>\n",
       "<table border=\"1\" class=\"dataframe\">\n",
       "  <thead>\n",
       "    <tr style=\"text-align: right;\">\n",
       "      <th></th>\n",
       "      <th>ut</th>\n",
       "      <th>cluster_id</th>\n",
       "      <th>core</th>\n",
       "    </tr>\n",
       "  </thead>\n",
       "  <tbody>\n",
       "    <tr>\n",
       "      <th>0</th>\n",
       "      <td>000202894100002</td>\n",
       "      <td>64</td>\n",
       "      <td>1</td>\n",
       "    </tr>\n",
       "    <tr>\n",
       "      <th>1</th>\n",
       "      <td>000202894100003</td>\n",
       "      <td>230</td>\n",
       "      <td>1</td>\n",
       "    </tr>\n",
       "    <tr>\n",
       "      <th>2</th>\n",
       "      <td>000202894100004</td>\n",
       "      <td>783</td>\n",
       "      <td>1</td>\n",
       "    </tr>\n",
       "    <tr>\n",
       "      <th>3</th>\n",
       "      <td>000202894100005</td>\n",
       "      <td>1692</td>\n",
       "      <td>1</td>\n",
       "    </tr>\n",
       "    <tr>\n",
       "      <th>4</th>\n",
       "      <td>000202894100006</td>\n",
       "      <td>64</td>\n",
       "      <td>1</td>\n",
       "    </tr>\n",
       "    <tr>\n",
       "      <th>...</th>\n",
       "      <td>...</td>\n",
       "      <td>...</td>\n",
       "      <td>...</td>\n",
       "    </tr>\n",
       "    <tr>\n",
       "      <th>24344006</th>\n",
       "      <td>000951303100001</td>\n",
       "      <td>1972</td>\n",
       "      <td>1</td>\n",
       "    </tr>\n",
       "    <tr>\n",
       "      <th>24344007</th>\n",
       "      <td>000951303400001</td>\n",
       "      <td>198</td>\n",
       "      <td>1</td>\n",
       "    </tr>\n",
       "    <tr>\n",
       "      <th>24344008</th>\n",
       "      <td>000951775800001</td>\n",
       "      <td>995</td>\n",
       "      <td>1</td>\n",
       "    </tr>\n",
       "    <tr>\n",
       "      <th>24344009</th>\n",
       "      <td>000951799500001</td>\n",
       "      <td>679</td>\n",
       "      <td>1</td>\n",
       "    </tr>\n",
       "    <tr>\n",
       "      <th>24344010</th>\n",
       "      <td>000951888900001</td>\n",
       "      <td>360</td>\n",
       "      <td>1</td>\n",
       "    </tr>\n",
       "  </tbody>\n",
       "</table>\n",
       "<p>24344011 rows × 3 columns</p>\n",
       "</div>"
      ],
      "text/plain": [
       "                       ut  cluster_id  core\n",
       "0         000202894100002          64     1\n",
       "1         000202894100003         230     1\n",
       "2         000202894100004         783     1\n",
       "3         000202894100005        1692     1\n",
       "4         000202894100006          64     1\n",
       "...                   ...         ...   ...\n",
       "24344006  000951303100001        1972     1\n",
       "24344007  000951303400001         198     1\n",
       "24344008  000951775800001         995     1\n",
       "24344009  000951799500001         679     1\n",
       "24344010  000951888900001         360     1\n",
       "\n",
       "[24344011 rows x 3 columns]"
      ]
     },
     "execution_count": 6,
     "metadata": {},
     "output_type": "execute_result"
    }
   ],
   "source": [
    "# Loading a TXT file with a tab separator\n",
    "df_loaded = pd.read_csv('./backup/pubs_with_micro_level_field_assignment.txt', sep='\\t', dtype={'ut': str})\n",
    "\n",
    "df_loaded"
   ]
  },
  {
   "cell_type": "code",
   "execution_count": 7,
   "id": "3e01d5dc",
   "metadata": {},
   "outputs": [
    {
     "name": "stdout",
     "output_type": "stream",
     "text": [
      "<class 'pandas.core.frame.DataFrame'>\n",
      "RangeIndex: 24344011 entries, 0 to 24344010\n",
      "Data columns (total 3 columns):\n",
      " #   Column      Dtype \n",
      "---  ------      ----- \n",
      " 0   ut          object\n",
      " 1   cluster_id  int64 \n",
      " 2   core        int64 \n",
      "dtypes: int64(2), object(1)\n",
      "memory usage: 557.2+ MB\n"
     ]
    }
   ],
   "source": [
    "df_loaded.info()"
   ]
  },
  {
   "cell_type": "code",
   "execution_count": 8,
   "id": "459d01b9",
   "metadata": {},
   "outputs": [
    {
     "name": "stdout",
     "output_type": "stream",
     "text": [
      "시작: 2024-02-15 14:21:47.318525\n",
      "종료: 2024-02-15 14:21:49.140933\n"
     ]
    }
   ],
   "source": [
    "now = datetime.datetime.now() \n",
    "print('시작:', now)\n",
    "\n",
    "df_loaded['ut_to_uid'] = 'WOS:' + df_loaded['ut'].astype(str)\n",
    "\n",
    "now = datetime.datetime.now()\n",
    "print('종료:', now)"
   ]
  },
  {
   "cell_type": "code",
   "execution_count": 10,
   "id": "6fbfb4c0",
   "metadata": {},
   "outputs": [
    {
     "name": "stdout",
     "output_type": "stream",
     "text": [
      "<class 'pandas.core.frame.DataFrame'>\n",
      "RangeIndex: 24344011 entries, 0 to 24344010\n",
      "Data columns (total 4 columns):\n",
      " #   Column      Dtype \n",
      "---  ------      ----- \n",
      " 0   ut          object\n",
      " 1   cluster_id  int64 \n",
      " 2   core        int64 \n",
      " 3   ut_to_uid   object\n",
      "dtypes: int64(2), object(2)\n",
      "memory usage: 742.9+ MB\n"
     ]
    }
   ],
   "source": [
    "df_loaded.info()"
   ]
  },
  {
   "cell_type": "code",
   "execution_count": 11,
   "id": "f3e321d2",
   "metadata": {},
   "outputs": [
    {
     "data": {
      "text/html": [
       "<div>\n",
       "<style scoped>\n",
       "    .dataframe tbody tr th:only-of-type {\n",
       "        vertical-align: middle;\n",
       "    }\n",
       "\n",
       "    .dataframe tbody tr th {\n",
       "        vertical-align: top;\n",
       "    }\n",
       "\n",
       "    .dataframe thead th {\n",
       "        text-align: right;\n",
       "    }\n",
       "</style>\n",
       "<table border=\"1\" class=\"dataframe\">\n",
       "  <thead>\n",
       "    <tr style=\"text-align: right;\">\n",
       "      <th></th>\n",
       "      <th>ut</th>\n",
       "      <th>cluster_id</th>\n",
       "      <th>core</th>\n",
       "      <th>ut_to_uid</th>\n",
       "    </tr>\n",
       "  </thead>\n",
       "  <tbody>\n",
       "    <tr>\n",
       "      <th>0</th>\n",
       "      <td>000202894100002</td>\n",
       "      <td>64</td>\n",
       "      <td>1</td>\n",
       "      <td>WOS:000202894100002</td>\n",
       "    </tr>\n",
       "    <tr>\n",
       "      <th>1</th>\n",
       "      <td>000202894100003</td>\n",
       "      <td>230</td>\n",
       "      <td>1</td>\n",
       "      <td>WOS:000202894100003</td>\n",
       "    </tr>\n",
       "    <tr>\n",
       "      <th>2</th>\n",
       "      <td>000202894100004</td>\n",
       "      <td>783</td>\n",
       "      <td>1</td>\n",
       "      <td>WOS:000202894100004</td>\n",
       "    </tr>\n",
       "    <tr>\n",
       "      <th>3</th>\n",
       "      <td>000202894100005</td>\n",
       "      <td>1692</td>\n",
       "      <td>1</td>\n",
       "      <td>WOS:000202894100005</td>\n",
       "    </tr>\n",
       "    <tr>\n",
       "      <th>4</th>\n",
       "      <td>000202894100006</td>\n",
       "      <td>64</td>\n",
       "      <td>1</td>\n",
       "      <td>WOS:000202894100006</td>\n",
       "    </tr>\n",
       "    <tr>\n",
       "      <th>...</th>\n",
       "      <td>...</td>\n",
       "      <td>...</td>\n",
       "      <td>...</td>\n",
       "      <td>...</td>\n",
       "    </tr>\n",
       "    <tr>\n",
       "      <th>24344006</th>\n",
       "      <td>000951303100001</td>\n",
       "      <td>1972</td>\n",
       "      <td>1</td>\n",
       "      <td>WOS:000951303100001</td>\n",
       "    </tr>\n",
       "    <tr>\n",
       "      <th>24344007</th>\n",
       "      <td>000951303400001</td>\n",
       "      <td>198</td>\n",
       "      <td>1</td>\n",
       "      <td>WOS:000951303400001</td>\n",
       "    </tr>\n",
       "    <tr>\n",
       "      <th>24344008</th>\n",
       "      <td>000951775800001</td>\n",
       "      <td>995</td>\n",
       "      <td>1</td>\n",
       "      <td>WOS:000951775800001</td>\n",
       "    </tr>\n",
       "    <tr>\n",
       "      <th>24344009</th>\n",
       "      <td>000951799500001</td>\n",
       "      <td>679</td>\n",
       "      <td>1</td>\n",
       "      <td>WOS:000951799500001</td>\n",
       "    </tr>\n",
       "    <tr>\n",
       "      <th>24344010</th>\n",
       "      <td>000951888900001</td>\n",
       "      <td>360</td>\n",
       "      <td>1</td>\n",
       "      <td>WOS:000951888900001</td>\n",
       "    </tr>\n",
       "  </tbody>\n",
       "</table>\n",
       "<p>24344011 rows × 4 columns</p>\n",
       "</div>"
      ],
      "text/plain": [
       "                       ut  cluster_id  core            ut_to_uid\n",
       "0         000202894100002          64     1  WOS:000202894100002\n",
       "1         000202894100003         230     1  WOS:000202894100003\n",
       "2         000202894100004         783     1  WOS:000202894100004\n",
       "3         000202894100005        1692     1  WOS:000202894100005\n",
       "4         000202894100006          64     1  WOS:000202894100006\n",
       "...                   ...         ...   ...                  ...\n",
       "24344006  000951303100001        1972     1  WOS:000951303100001\n",
       "24344007  000951303400001         198     1  WOS:000951303400001\n",
       "24344008  000951775800001         995     1  WOS:000951775800001\n",
       "24344009  000951799500001         679     1  WOS:000951799500001\n",
       "24344010  000951888900001         360     1  WOS:000951888900001\n",
       "\n",
       "[24344011 rows x 4 columns]"
      ]
     },
     "execution_count": 11,
     "metadata": {},
     "output_type": "execute_result"
    }
   ],
   "source": [
    "# Saving a DataFrame to a TXT file with a tab separator\n",
    "#df.to_csv('my_dataframe.txt', sep='\\t', index=False)\n",
    "df_loaded"
   ]
  },
  {
   "cell_type": "code",
   "execution_count": 12,
   "id": "fa71542c",
   "metadata": {},
   "outputs": [],
   "source": [
    "# Saving a DataFrame to a TXT file with a tab separator\n",
    "df_loaded.to_csv('./dict/new_pubs_with_micro_level_field_assignment.txt', sep='\\t', index=False)\n"
   ]
  },
  {
   "cell_type": "markdown",
   "id": "4d5ce11b",
   "metadata": {},
   "source": [
    "## is_core.pkl 만들기"
   ]
  },
  {
   "cell_type": "code",
   "execution_count": null,
   "id": "515e1549",
   "metadata": {},
   "outputs": [],
   "source": [
    "# reading \n",
    "now = datetime.datetime.now() \n",
    "print('시작:', now)\n",
    "df  =  pd.read_csv('./dict/new_pubs_with_micro_level_field_assignment.txt', sep='\\t')\n",
    "now = datetime.datetime.now()\n",
    "print('종료:', now)"
   ]
  },
  {
   "cell_type": "code",
   "execution_count": null,
   "id": "fbff2247",
   "metadata": {},
   "outputs": [],
   "source": [
    "df"
   ]
  },
  {
   "cell_type": "code",
   "execution_count": null,
   "id": "88748faa",
   "metadata": {},
   "outputs": [],
   "source": [
    "# Query\n",
    "q1 = \"\"\"\n",
    "SELECT *\n",
    "FROM df\n",
    "WHERE core = '1'\n",
    ";\n",
    "\"\"\"\n",
    "\n",
    "now = datetime.datetime.now() \n",
    "print('시작:', now)\n",
    "\n",
    " \n",
    "# pandasql을 사용하여 쿼리 실행\n",
    "is_core = ps.sqldf(q1)\n",
    "\n",
    "# Save DataFrame to txt\n",
    "is_core.to_csv('./mid/is_core.txt', sep='\\t', index=False)\n",
    "\n",
    "now = datetime.datetime.now()\n",
    "print('종료:', now)\n"
   ]
  },
  {
   "cell_type": "code",
   "execution_count": null,
   "id": "4b737c87",
   "metadata": {},
   "outputs": [],
   "source": [
    "is_core.info()"
   ]
  },
  {
   "cell_type": "code",
   "execution_count": null,
   "id": "adc067a5",
   "metadata": {},
   "outputs": [],
   "source": [
    "# 'core' 컬럼이 모두 1인지 확인\n",
    "all_cores_are_one = is_core['core'].eq(1).all()\n",
    "print(all_cores_are_one)"
   ]
  },
  {
   "cell_type": "markdown",
   "id": "86b9a159",
   "metadata": {},
   "source": [
    "True"
   ]
  },
  {
   "cell_type": "code",
   "execution_count": null,
   "id": "9d6c5999",
   "metadata": {},
   "outputs": [],
   "source": [
    "# 'ut_to_uid' 컬럼의 모든 데이터를 set으로 변환\n",
    "ut_to_uid_is_core_set = set(is_core['ut_to_uid'])\n",
    "#print(f\"ut_to_uid 컬럼 데이터의 set: {ut_to_uid_is_core_set}\")\n",
    "print(f\"ut_to_uid 컬럼 데이터의 set 크기: {len(ut_to_uid_is_core_set)}\")"
   ]
  },
  {
   "cell_type": "markdown",
   "id": "be42bf13",
   "metadata": {},
   "source": [
    "ut_to_uid 컬럼 데이터의 set 크기: 22379399"
   ]
  },
  {
   "cell_type": "markdown",
   "id": "8d7d45e0",
   "metadata": {},
   "source": [
    "set 데이터 저장 후 로드 잘되는지 체크"
   ]
  },
  {
   "cell_type": "code",
   "execution_count": null,
   "id": "34b050e1",
   "metadata": {},
   "outputs": [],
   "source": [
    "import pickle\n",
    "\n",
    "# set 데이터를 pickle 파일로 저장\n",
    "with open('./mid/ut_to_uid_is_core_set.pkl', 'wb') as file:\n",
    "    pickle.dump(ut_to_uid_is_core_set, file)"
   ]
  },
  {
   "cell_type": "code",
   "execution_count": null,
   "id": "0948a426",
   "metadata": {},
   "outputs": [],
   "source": [
    "# pickle 파일로부터 set 데이터 불러오기\n",
    "with open('./mid/ut_to_uid_is_core_set.pkl', 'rb') as file:\n",
    "    loaded_ut_ut_to_uid_is_core_set = pickle.load(file)\n",
    "\n",
    "#print(loaded_ut_ut_to_uid_is_core_set)\n",
    "print(f\"ut_to_uid 컬럼 데이터의 set 크기: {len(loaded_ut_ut_to_uid_is_core_set)}\")"
   ]
  },
  {
   "cell_type": "markdown",
   "id": "71bd4226",
   "metadata": {},
   "source": [
    "ut_to_uid 컬럼 데이터의 set 크기: 22379399"
   ]
  }
 ],
 "metadata": {
  "kernelspec": {
   "display_name": "Python 3 (ipykernel)",
   "language": "python",
   "name": "python3"
  },
  "language_info": {
   "codemirror_mode": {
    "name": "ipython",
    "version": 3
   },
   "file_extension": ".py",
   "mimetype": "text/x-python",
   "name": "python",
   "nbconvert_exporter": "python",
   "pygments_lexer": "ipython3",
   "version": "3.11.5"
  }
 },
 "nbformat": 4,
 "nbformat_minor": 5
}
