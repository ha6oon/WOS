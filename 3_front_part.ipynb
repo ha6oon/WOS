{
 "cells": [
  {
   "cell_type": "code",
   "execution_count": 2,
   "id": "bbbc9c5b",
   "metadata": {},
   "outputs": [],
   "source": [
    "import pymysql\n",
    "from sqlalchemy import create_engine\n",
    "import pandas as pd\n",
    "from pandas.io import sql\n",
    "import datetime\n",
    "import pandas as pd\n",
    "import pandasql as ps\n",
    "from concurrent.futures import ThreadPoolExecutor, as_completed"
   ]
  },
  {
   "cell_type": "code",
   "execution_count": 3,
   "id": "84e23726",
   "metadata": {},
   "outputs": [
    {
     "name": "stdout",
     "output_type": "stream",
     "text": [
      "시작: 2024-02-20 15:21:25.552103\n",
      "종료: 2024-02-20 15:32:05.699373\n"
     ]
    }
   ],
   "source": [
    "# reading \n",
    "now = datetime.datetime.now() \n",
    "print('시작:', now)\n",
    "agg3 =  pd.read_csv('./mid/agg3.txt', sep='\\t')\n",
    "merged_references_990 = pd.read_csv('./reference/merged_references_0_to_990.txt',  sep='\\t')\n",
    "now = datetime.datetime.now()\n",
    "print('종료:', now)"
   ]
  },
  {
   "cell_type": "code",
   "execution_count": 4,
   "id": "fe6b2d80",
   "metadata": {},
   "outputs": [
    {
     "data": {
      "text/html": [
       "<div>\n",
       "<style scoped>\n",
       "    .dataframe tbody tr th:only-of-type {\n",
       "        vertical-align: middle;\n",
       "    }\n",
       "\n",
       "    .dataframe tbody tr th {\n",
       "        vertical-align: top;\n",
       "    }\n",
       "\n",
       "    .dataframe thead th {\n",
       "        text-align: right;\n",
       "    }\n",
       "</style>\n",
       "<table border=\"1\" class=\"dataframe\">\n",
       "  <thead>\n",
       "    <tr style=\"text-align: right;\">\n",
       "      <th></th>\n",
       "      <th>uid</th>\n",
       "      <th>cluster_id</th>\n",
       "      <th>pubyear2</th>\n",
       "    </tr>\n",
       "  </thead>\n",
       "  <tbody>\n",
       "    <tr>\n",
       "      <th>0</th>\n",
       "      <td>WOS:000239031100003</td>\n",
       "      <td>1333</td>\n",
       "      <td>2006</td>\n",
       "    </tr>\n",
       "    <tr>\n",
       "      <th>1</th>\n",
       "      <td>WOS:000234737300014</td>\n",
       "      <td>846</td>\n",
       "      <td>2006</td>\n",
       "    </tr>\n",
       "    <tr>\n",
       "      <th>2</th>\n",
       "      <td>WOS:000241844400003</td>\n",
       "      <td>997</td>\n",
       "      <td>2006</td>\n",
       "    </tr>\n",
       "    <tr>\n",
       "      <th>3</th>\n",
       "      <td>WOS:000417059300001</td>\n",
       "      <td>151</td>\n",
       "      <td>2006</td>\n",
       "    </tr>\n",
       "    <tr>\n",
       "      <th>4</th>\n",
       "      <td>WOS:000235792300010</td>\n",
       "      <td>210</td>\n",
       "      <td>2006</td>\n",
       "    </tr>\n",
       "    <tr>\n",
       "      <th>...</th>\n",
       "      <td>...</td>\n",
       "      <td>...</td>\n",
       "      <td>...</td>\n",
       "    </tr>\n",
       "    <tr>\n",
       "      <th>24339950</th>\n",
       "      <td>WOS:000750113400001</td>\n",
       "      <td>2719</td>\n",
       "      <td>2021</td>\n",
       "    </tr>\n",
       "    <tr>\n",
       "      <th>24339951</th>\n",
       "      <td>WOS:000839344100002</td>\n",
       "      <td>1636</td>\n",
       "      <td>2022</td>\n",
       "    </tr>\n",
       "    <tr>\n",
       "      <th>24339952</th>\n",
       "      <td>WOS:000798801800001</td>\n",
       "      <td>3584</td>\n",
       "      <td>2021</td>\n",
       "    </tr>\n",
       "    <tr>\n",
       "      <th>24339953</th>\n",
       "      <td>WOS:000763296900001</td>\n",
       "      <td>2034</td>\n",
       "      <td>2021</td>\n",
       "    </tr>\n",
       "    <tr>\n",
       "      <th>24339954</th>\n",
       "      <td>WOS:000738563300001</td>\n",
       "      <td>2136</td>\n",
       "      <td>2021</td>\n",
       "    </tr>\n",
       "  </tbody>\n",
       "</table>\n",
       "<p>24339955 rows × 3 columns</p>\n",
       "</div>"
      ],
      "text/plain": [
       "                          uid  cluster_id  pubyear2\n",
       "0         WOS:000239031100003        1333      2006\n",
       "1         WOS:000234737300014         846      2006\n",
       "2         WOS:000241844400003         997      2006\n",
       "3         WOS:000417059300001         151      2006\n",
       "4         WOS:000235792300010         210      2006\n",
       "...                       ...         ...       ...\n",
       "24339950  WOS:000750113400001        2719      2021\n",
       "24339951  WOS:000839344100002        1636      2022\n",
       "24339952  WOS:000798801800001        3584      2021\n",
       "24339953  WOS:000763296900001        2034      2021\n",
       "24339954  WOS:000738563300001        2136      2021\n",
       "\n",
       "[24339955 rows x 3 columns]"
      ]
     },
     "execution_count": 4,
     "metadata": {},
     "output_type": "execute_result"
    }
   ],
   "source": [
    "agg3"
   ]
  },
  {
   "cell_type": "code",
   "execution_count": 5,
   "id": "b1d8c9bb",
   "metadata": {},
   "outputs": [
    {
     "data": {
      "text/html": [
       "<div>\n",
       "<style scoped>\n",
       "    .dataframe tbody tr th:only-of-type {\n",
       "        vertical-align: middle;\n",
       "    }\n",
       "\n",
       "    .dataframe tbody tr th {\n",
       "        vertical-align: top;\n",
       "    }\n",
       "\n",
       "    .dataframe thead th {\n",
       "        text-align: right;\n",
       "    }\n",
       "</style>\n",
       "<table border=\"1\" class=\"dataframe\">\n",
       "  <thead>\n",
       "    <tr style=\"text-align: right;\">\n",
       "      <th></th>\n",
       "      <th>uid</th>\n",
       "      <th>ref_uid</th>\n",
       "      <th>ref_count</th>\n",
       "    </tr>\n",
       "  </thead>\n",
       "  <tbody>\n",
       "    <tr>\n",
       "      <th>0</th>\n",
       "      <td>WOS:000201977400052</td>\n",
       "      <td>WOS:000201977400052.1</td>\n",
       "      <td>1</td>\n",
       "    </tr>\n",
       "    <tr>\n",
       "      <th>1</th>\n",
       "      <td>WOS:000200451400481</td>\n",
       "      <td>WOS:000200451400481.4</td>\n",
       "      <td>5</td>\n",
       "    </tr>\n",
       "    <tr>\n",
       "      <th>2</th>\n",
       "      <td>WOS:000200451400481</td>\n",
       "      <td>WOS:000200451400481.2</td>\n",
       "      <td>5</td>\n",
       "    </tr>\n",
       "    <tr>\n",
       "      <th>3</th>\n",
       "      <td>WOS:000200451400481</td>\n",
       "      <td>WOS:000200451400481.1</td>\n",
       "      <td>5</td>\n",
       "    </tr>\n",
       "    <tr>\n",
       "      <th>4</th>\n",
       "      <td>WOS:000200451400481</td>\n",
       "      <td>WOS:000200451400481.5</td>\n",
       "      <td>5</td>\n",
       "    </tr>\n",
       "    <tr>\n",
       "      <th>...</th>\n",
       "      <td>...</td>\n",
       "      <td>...</td>\n",
       "      <td>...</td>\n",
       "    </tr>\n",
       "    <tr>\n",
       "      <th>1001999995</th>\n",
       "      <td>WOS:000331178400067</td>\n",
       "      <td>WOS:000184382700010</td>\n",
       "      <td>15</td>\n",
       "    </tr>\n",
       "    <tr>\n",
       "      <th>1001999996</th>\n",
       "      <td>WOS:000331178400067</td>\n",
       "      <td>WOS:000274675000001</td>\n",
       "      <td>15</td>\n",
       "    </tr>\n",
       "    <tr>\n",
       "      <th>1001999997</th>\n",
       "      <td>WOS:000325157800001</td>\n",
       "      <td>WOS:A1991GL69600062</td>\n",
       "      <td>59</td>\n",
       "    </tr>\n",
       "    <tr>\n",
       "      <th>1001999998</th>\n",
       "      <td>WOS:000325157800001</td>\n",
       "      <td>WOS:A1977DZ86400001</td>\n",
       "      <td>59</td>\n",
       "    </tr>\n",
       "    <tr>\n",
       "      <th>1001999999</th>\n",
       "      <td>WOS:000325157800001</td>\n",
       "      <td>WOS:A19613759B00146</td>\n",
       "      <td>59</td>\n",
       "    </tr>\n",
       "  </tbody>\n",
       "</table>\n",
       "<p>1002000000 rows × 3 columns</p>\n",
       "</div>"
      ],
      "text/plain": [
       "                            uid                ref_uid  ref_count\n",
       "0           WOS:000201977400052  WOS:000201977400052.1          1\n",
       "1           WOS:000200451400481  WOS:000200451400481.4          5\n",
       "2           WOS:000200451400481  WOS:000200451400481.2          5\n",
       "3           WOS:000200451400481  WOS:000200451400481.1          5\n",
       "4           WOS:000200451400481  WOS:000200451400481.5          5\n",
       "...                         ...                    ...        ...\n",
       "1001999995  WOS:000331178400067    WOS:000184382700010         15\n",
       "1001999996  WOS:000331178400067    WOS:000274675000001         15\n",
       "1001999997  WOS:000325157800001    WOS:A1991GL69600062         59\n",
       "1001999998  WOS:000325157800001    WOS:A1977DZ86400001         59\n",
       "1001999999  WOS:000325157800001    WOS:A19613759B00146         59\n",
       "\n",
       "[1002000000 rows x 3 columns]"
      ]
     },
     "execution_count": 5,
     "metadata": {},
     "output_type": "execute_result"
    }
   ],
   "source": [
    "merged_references_990"
   ]
  },
  {
   "cell_type": "code",
   "execution_count": 5,
   "id": "f94557bb",
   "metadata": {},
   "outputs": [
    {
     "name": "stdout",
     "output_type": "stream",
     "text": [
      "uid           0\n",
      "cluster_id    0\n",
      "pubyear2      0\n",
      "dtype: int64\n"
     ]
    }
   ],
   "source": [
    "# 각 컬럼별 null 값의 개수 계산\n",
    "null_counts = agg3.isnull().sum()\n",
    "\n",
    "# 결과 출력\n",
    "print(null_counts)"
   ]
  },
  {
   "cell_type": "markdown",
   "id": "c991fc65",
   "metadata": {},
   "source": [
    "조인하기"
   ]
  },
  {
   "cell_type": "code",
   "execution_count": 6,
   "id": "d0cf4b23",
   "metadata": {},
   "outputs": [
    {
     "name": "stdout",
     "output_type": "stream",
     "text": [
      "시작: 2024-02-20 15:32:05.725562\n",
      "종료: 2024-02-20 15:35:27.777133\n"
     ]
    }
   ],
   "source": [
    "now = datetime.datetime.now() \n",
    "print('시작:', now)\n",
    "\n",
    "third_result1 = pd.merge(merged_references_990,agg3, on='uid', how='left')\n",
    "\n",
    "now = datetime.datetime.now()\n",
    "print('종료:', now)"
   ]
  },
  {
   "cell_type": "code",
   "execution_count": 7,
   "id": "f2c63824",
   "metadata": {},
   "outputs": [
    {
     "name": "stdout",
     "output_type": "stream",
     "text": [
      "uid                   0\n",
      "ref_uid           83255\n",
      "ref_count             0\n",
      "cluster_id    690648997\n",
      "pubyear2      690648997\n",
      "dtype: int64\n"
     ]
    }
   ],
   "source": [
    "# 각 컬럼별 null 값의 개수 계산\n",
    "null_counts2 = third_result1.isnull().sum()\n",
    "\n",
    "# 결과 출력\n",
    "print(null_counts2)"
   ]
  },
  {
   "cell_type": "code",
   "execution_count": 12,
   "id": "4ed8f678",
   "metadata": {},
   "outputs": [
    {
     "name": "stdout",
     "output_type": "stream",
     "text": [
      "uid              0\n",
      "ref_uid      83255\n",
      "ref_count        0\n",
      "dtype: int64\n"
     ]
    }
   ],
   "source": [
    "# 각 컬럼별 null 값의 개수 계산\n",
    "null_counts00 = merged_references_990.isnull().sum()\n",
    "\n",
    "# 결과 출력\n",
    "print(null_counts00)"
   ]
  },
  {
   "cell_type": "code",
   "execution_count": 8,
   "id": "0a3d1523",
   "metadata": {},
   "outputs": [],
   "source": [
    "# 컬럼명 변경\n",
    "third_result1 = third_result1.rename(columns={'ref_uid': 'refs_uid', 'ref_count': 'refs_n'})\n",
    "\n",
    "\n",
    "# 컬럼 순서를 변경하고 싶은 순서대로 지정\n",
    "new_order = ['uid' , 'cluster_id','pubyear2', 'refs_uid', 'refs_n']\n",
    "\n",
    "# 새 순서로 DataFrame을 재구성\n",
    "third_result2 = third_result1[new_order]\n",
    "\n"
   ]
  },
  {
   "cell_type": "code",
   "execution_count": 9,
   "id": "01f24f4a",
   "metadata": {},
   "outputs": [],
   "source": [
    "# 정수화\n",
    "third_result2['cluster_id'] = third_result2['cluster_id'].astype('Int64')\n",
    "third_result2['pubyear2'] = third_result2['pubyear2'].astype('Int64')"
   ]
  },
  {
   "cell_type": "code",
   "execution_count": 10,
   "id": "b95eb154",
   "metadata": {},
   "outputs": [
    {
     "data": {
      "text/html": [
       "<div>\n",
       "<style scoped>\n",
       "    .dataframe tbody tr th:only-of-type {\n",
       "        vertical-align: middle;\n",
       "    }\n",
       "\n",
       "    .dataframe tbody tr th {\n",
       "        vertical-align: top;\n",
       "    }\n",
       "\n",
       "    .dataframe thead th {\n",
       "        text-align: right;\n",
       "    }\n",
       "</style>\n",
       "<table border=\"1\" class=\"dataframe\">\n",
       "  <thead>\n",
       "    <tr style=\"text-align: right;\">\n",
       "      <th></th>\n",
       "      <th>uid</th>\n",
       "      <th>cluster_id</th>\n",
       "      <th>pubyear2</th>\n",
       "      <th>refs_uid</th>\n",
       "      <th>refs_n</th>\n",
       "    </tr>\n",
       "  </thead>\n",
       "  <tbody>\n",
       "    <tr>\n",
       "      <th>0</th>\n",
       "      <td>WOS:000201977400052</td>\n",
       "      <td>&lt;NA&gt;</td>\n",
       "      <td>&lt;NA&gt;</td>\n",
       "      <td>WOS:000201977400052.1</td>\n",
       "      <td>1</td>\n",
       "    </tr>\n",
       "    <tr>\n",
       "      <th>1</th>\n",
       "      <td>WOS:000200451400481</td>\n",
       "      <td>&lt;NA&gt;</td>\n",
       "      <td>&lt;NA&gt;</td>\n",
       "      <td>WOS:000200451400481.4</td>\n",
       "      <td>5</td>\n",
       "    </tr>\n",
       "    <tr>\n",
       "      <th>2</th>\n",
       "      <td>WOS:000200451400481</td>\n",
       "      <td>&lt;NA&gt;</td>\n",
       "      <td>&lt;NA&gt;</td>\n",
       "      <td>WOS:000200451400481.2</td>\n",
       "      <td>5</td>\n",
       "    </tr>\n",
       "    <tr>\n",
       "      <th>3</th>\n",
       "      <td>WOS:000200451400481</td>\n",
       "      <td>&lt;NA&gt;</td>\n",
       "      <td>&lt;NA&gt;</td>\n",
       "      <td>WOS:000200451400481.1</td>\n",
       "      <td>5</td>\n",
       "    </tr>\n",
       "    <tr>\n",
       "      <th>4</th>\n",
       "      <td>WOS:000200451400481</td>\n",
       "      <td>&lt;NA&gt;</td>\n",
       "      <td>&lt;NA&gt;</td>\n",
       "      <td>WOS:000200451400481.5</td>\n",
       "      <td>5</td>\n",
       "    </tr>\n",
       "    <tr>\n",
       "      <th>...</th>\n",
       "      <td>...</td>\n",
       "      <td>...</td>\n",
       "      <td>...</td>\n",
       "      <td>...</td>\n",
       "      <td>...</td>\n",
       "    </tr>\n",
       "    <tr>\n",
       "      <th>1001999995</th>\n",
       "      <td>WOS:000331178400067</td>\n",
       "      <td>&lt;NA&gt;</td>\n",
       "      <td>&lt;NA&gt;</td>\n",
       "      <td>WOS:000184382700010</td>\n",
       "      <td>15</td>\n",
       "    </tr>\n",
       "    <tr>\n",
       "      <th>1001999996</th>\n",
       "      <td>WOS:000331178400067</td>\n",
       "      <td>&lt;NA&gt;</td>\n",
       "      <td>&lt;NA&gt;</td>\n",
       "      <td>WOS:000274675000001</td>\n",
       "      <td>15</td>\n",
       "    </tr>\n",
       "    <tr>\n",
       "      <th>1001999997</th>\n",
       "      <td>WOS:000325157800001</td>\n",
       "      <td>25</td>\n",
       "      <td>2013</td>\n",
       "      <td>WOS:A1991GL69600062</td>\n",
       "      <td>59</td>\n",
       "    </tr>\n",
       "    <tr>\n",
       "      <th>1001999998</th>\n",
       "      <td>WOS:000325157800001</td>\n",
       "      <td>25</td>\n",
       "      <td>2013</td>\n",
       "      <td>WOS:A1977DZ86400001</td>\n",
       "      <td>59</td>\n",
       "    </tr>\n",
       "    <tr>\n",
       "      <th>1001999999</th>\n",
       "      <td>WOS:000325157800001</td>\n",
       "      <td>25</td>\n",
       "      <td>2013</td>\n",
       "      <td>WOS:A19613759B00146</td>\n",
       "      <td>59</td>\n",
       "    </tr>\n",
       "  </tbody>\n",
       "</table>\n",
       "<p>1002000000 rows × 5 columns</p>\n",
       "</div>"
      ],
      "text/plain": [
       "                            uid  cluster_id  pubyear2               refs_uid  \\\n",
       "0           WOS:000201977400052        <NA>      <NA>  WOS:000201977400052.1   \n",
       "1           WOS:000200451400481        <NA>      <NA>  WOS:000200451400481.4   \n",
       "2           WOS:000200451400481        <NA>      <NA>  WOS:000200451400481.2   \n",
       "3           WOS:000200451400481        <NA>      <NA>  WOS:000200451400481.1   \n",
       "4           WOS:000200451400481        <NA>      <NA>  WOS:000200451400481.5   \n",
       "...                         ...         ...       ...                    ...   \n",
       "1001999995  WOS:000331178400067        <NA>      <NA>    WOS:000184382700010   \n",
       "1001999996  WOS:000331178400067        <NA>      <NA>    WOS:000274675000001   \n",
       "1001999997  WOS:000325157800001          25      2013    WOS:A1991GL69600062   \n",
       "1001999998  WOS:000325157800001          25      2013    WOS:A1977DZ86400001   \n",
       "1001999999  WOS:000325157800001          25      2013    WOS:A19613759B00146   \n",
       "\n",
       "            refs_n  \n",
       "0                1  \n",
       "1                5  \n",
       "2                5  \n",
       "3                5  \n",
       "4                5  \n",
       "...            ...  \n",
       "1001999995      15  \n",
       "1001999996      15  \n",
       "1001999997      59  \n",
       "1001999998      59  \n",
       "1001999999      59  \n",
       "\n",
       "[1002000000 rows x 5 columns]"
      ]
     },
     "execution_count": 10,
     "metadata": {},
     "output_type": "execute_result"
    }
   ],
   "source": [
    "third_result2"
   ]
  },
  {
   "cell_type": "markdown",
   "id": "7b95f83d",
   "metadata": {},
   "source": [
    "refs_uid가 null인 값만 추출해서 엑셀로 저장해서 까보기"
   ]
  },
  {
   "cell_type": "code",
   "execution_count": 14,
   "id": "11374ca4",
   "metadata": {},
   "outputs": [
    {
     "name": "stdout",
     "output_type": "stream",
     "text": [
      "시작: 2024-02-20 15:49:25.318052\n",
      "종료: 2024-02-20 15:50:13.192538\n"
     ]
    }
   ],
   "source": [
    "now = datetime.datetime.now() \n",
    "print('시작:', now)\n",
    "\n",
    "# 'refs_uid' 컬럼에서 결측값(null)을 포함하는 행만 필터링\n",
    "null_refs_uid_rows = third_result2[third_result2['refs_uid'].isnull()]\n",
    "\n",
    "# 결측값을 포함하는 행 출력\n",
    "#print(null_refs_uid_rows)\n",
    "\n",
    "# 결과를 엑셀 파일로 저장\n",
    "null_refs_uid_rows.to_excel('./check/null_refs_uid_rows_third_result2.xlsx', index=False)\n",
    "\n",
    "now = datetime.datetime.now()\n",
    "print('종료:', now)"
   ]
  },
  {
   "cell_type": "code",
   "execution_count": 15,
   "id": "cbddae07",
   "metadata": {},
   "outputs": [
    {
     "name": "stdout",
     "output_type": "stream",
     "text": [
      "                            uid  cluster_id  pubyear2 refs_uid  refs_n\n",
      "31137       WOS:000201402400076        <NA>      <NA>      NaN      17\n",
      "64549       WOS:000200938100005        <NA>      <NA>      NaN      31\n",
      "88398       WOS:000201276100003        <NA>      <NA>      NaN      12\n",
      "145171      WOS:000201817500008        <NA>      <NA>      NaN      20\n",
      "166852      WOS:000200172000004        <NA>      <NA>      NaN       5\n",
      "...                         ...         ...       ...      ...     ...\n",
      "1001973588  WOS:000327446500028           4      2013      NaN      66\n",
      "1001978739  WOS:000324536800004         934      2013      NaN      57\n",
      "1001979425  WOS:000323412600015          57      2013      NaN      42\n",
      "1001985683  WOS:000322694400007        1604      2013      NaN      32\n",
      "1001986358  WOS:000315573100008        1149      2013      NaN      52\n",
      "\n",
      "[83255 rows x 5 columns]\n"
     ]
    }
   ],
   "source": [
    "# 결측값을 포함하는 행 출력\n",
    "print(null_refs_uid_rows)"
   ]
  },
  {
   "cell_type": "markdown",
   "id": "89c11b92",
   "metadata": {},
   "source": [
    "ut_to_uid_is_core_set.pkl => P에서 ut를 통해 ut_to_uid(=uid)를 만듦 -> core가 1인 ut_to_uid(uid)만 추출한 set임.\n",
    "merged_references의 uid가 이 pkl에 있다면(P에 존재하고 CORE가 1임) within_core 가 1, 아님 0으로 값 조정."
   ]
  },
  {
   "cell_type": "code",
   "execution_count": 13,
   "id": "ba272053",
   "metadata": {},
   "outputs": [
    {
     "name": "stdout",
     "output_type": "stream",
     "text": [
      "ut_to_uid 컬럼 데이터의 set 크기: 22379399\n"
     ]
    }
   ],
   "source": [
    "import pickle\n",
    "\n",
    "# pickle 파일로부터 set 데이터 불러오기\n",
    "with open('./mid/ut_to_uid_is_core_set.pkl', 'rb') as file:\n",
    "    loaded_is_core_set = pickle.load(file)\n",
    "\n",
    "#print(loaded_ut_ut_to_uid_is_core_set)\n",
    "print(f\"ut_to_uid 컬럼 데이터의 set 크기: {len(loaded_is_core_set)}\")"
   ]
  },
  {
   "cell_type": "markdown",
   "id": "21aec38f",
   "metadata": {},
   "source": [
    "refs_uid에 결측값이 존재함. 0과 1을 정수형으로 저장할 수 없음. 따라서 within_core의 데이터타입을 문자열로 지정함. "
   ]
  },
  {
   "cell_type": "code",
   "execution_count": 17,
   "id": "11836158",
   "metadata": {},
   "outputs": [
    {
     "name": "stdout",
     "output_type": "stream",
     "text": [
      "시작: 2024-02-20 16:20:10.356284\n",
      "종료: 2024-02-20 16:31:16.006772\n"
     ]
    }
   ],
   "source": [
    "import numpy as np\n",
    "\n",
    "\n",
    "now = datetime.datetime.now() \n",
    "print('시작:', now)\n",
    "\n",
    "# third_result2 DataFrame에 within_core 컬럼 추가 및 값 할당, 문자열로 처리\n",
    "third_result2['within_core'] = third_result2['refs_uid'].apply(lambda x: 'NaN' if pd.isnull(x) else ('1' if x in loaded_is_core_set else '0'))\n",
    "\n",
    "now = datetime.datetime.now()\n",
    "print('종료:', now)"
   ]
  },
  {
   "cell_type": "markdown",
   "id": "0c42e126",
   "metadata": {},
   "source": [
    "within_core의 데이터 값 조사, 카운트 "
   ]
  },
  {
   "cell_type": "code",
   "execution_count": 18,
   "id": "e32653df",
   "metadata": {},
   "outputs": [
    {
     "name": "stdout",
     "output_type": "stream",
     "text": [
      "시작: 2024-02-20 16:31:16.011596\n",
      "within_core\n",
      "0      927165537\n",
      "1       74751208\n",
      "NaN        83255\n",
      "Name: count, dtype: int64\n",
      "종료: 2024-02-20 16:31:44.506611\n"
     ]
    }
   ],
   "source": [
    "now = datetime.datetime.now() \n",
    "print('시작:', now)\n",
    "\n",
    "\n",
    "# within_core 컬럼의 데이터 값 조사 및 카운트\n",
    "within_core_counts = third_result2['within_core'].value_counts()\n",
    "\n",
    "# 결과 출력\n",
    "print(within_core_counts)\n",
    "\n",
    "now = datetime.datetime.now()\n",
    "print('종료:', now)"
   ]
  },
  {
   "cell_type": "markdown",
   "id": "0054c613",
   "metadata": {},
   "source": [
    "괜찮으면 : within_core 는 0과 1로만 이루어진 수.\n",
    "저장하기 -> final폴더에 ."
   ]
  },
  {
   "cell_type": "code",
   "execution_count": 19,
   "id": "c8a2ba05",
   "metadata": {},
   "outputs": [
    {
     "name": "stdout",
     "output_type": "stream",
     "text": [
      "시작: 2024-02-20 16:31:44.515588\n",
      "종료: 2024-02-20 17:05:15.722909\n"
     ]
    }
   ],
   "source": [
    "\n",
    "now = datetime.datetime.now() \n",
    "print('시작:', now)\n",
    "\n",
    "third_result2.to_csv('./mid/third/third_result2.txt', sep='\\t', index=False)\n",
    "\n",
    "now = datetime.datetime.now()\n",
    "print('종료:', now)"
   ]
  },
  {
   "cell_type": "code",
   "execution_count": 20,
   "id": "b5b1ce89",
   "metadata": {},
   "outputs": [
    {
     "data": {
      "text/html": [
       "<div>\n",
       "<style scoped>\n",
       "    .dataframe tbody tr th:only-of-type {\n",
       "        vertical-align: middle;\n",
       "    }\n",
       "\n",
       "    .dataframe tbody tr th {\n",
       "        vertical-align: top;\n",
       "    }\n",
       "\n",
       "    .dataframe thead th {\n",
       "        text-align: right;\n",
       "    }\n",
       "</style>\n",
       "<table border=\"1\" class=\"dataframe\">\n",
       "  <thead>\n",
       "    <tr style=\"text-align: right;\">\n",
       "      <th></th>\n",
       "      <th>uid</th>\n",
       "      <th>cluster_id</th>\n",
       "      <th>pubyear2</th>\n",
       "      <th>refs_uid</th>\n",
       "      <th>refs_n</th>\n",
       "      <th>within_core</th>\n",
       "    </tr>\n",
       "  </thead>\n",
       "  <tbody>\n",
       "    <tr>\n",
       "      <th>0</th>\n",
       "      <td>WOS:000201977400052</td>\n",
       "      <td>&lt;NA&gt;</td>\n",
       "      <td>&lt;NA&gt;</td>\n",
       "      <td>WOS:000201977400052.1</td>\n",
       "      <td>1</td>\n",
       "      <td>0</td>\n",
       "    </tr>\n",
       "    <tr>\n",
       "      <th>1</th>\n",
       "      <td>WOS:000200451400481</td>\n",
       "      <td>&lt;NA&gt;</td>\n",
       "      <td>&lt;NA&gt;</td>\n",
       "      <td>WOS:000200451400481.4</td>\n",
       "      <td>5</td>\n",
       "      <td>0</td>\n",
       "    </tr>\n",
       "    <tr>\n",
       "      <th>2</th>\n",
       "      <td>WOS:000200451400481</td>\n",
       "      <td>&lt;NA&gt;</td>\n",
       "      <td>&lt;NA&gt;</td>\n",
       "      <td>WOS:000200451400481.2</td>\n",
       "      <td>5</td>\n",
       "      <td>0</td>\n",
       "    </tr>\n",
       "    <tr>\n",
       "      <th>3</th>\n",
       "      <td>WOS:000200451400481</td>\n",
       "      <td>&lt;NA&gt;</td>\n",
       "      <td>&lt;NA&gt;</td>\n",
       "      <td>WOS:000200451400481.1</td>\n",
       "      <td>5</td>\n",
       "      <td>0</td>\n",
       "    </tr>\n",
       "    <tr>\n",
       "      <th>4</th>\n",
       "      <td>WOS:000200451400481</td>\n",
       "      <td>&lt;NA&gt;</td>\n",
       "      <td>&lt;NA&gt;</td>\n",
       "      <td>WOS:000200451400481.5</td>\n",
       "      <td>5</td>\n",
       "      <td>0</td>\n",
       "    </tr>\n",
       "    <tr>\n",
       "      <th>...</th>\n",
       "      <td>...</td>\n",
       "      <td>...</td>\n",
       "      <td>...</td>\n",
       "      <td>...</td>\n",
       "      <td>...</td>\n",
       "      <td>...</td>\n",
       "    </tr>\n",
       "    <tr>\n",
       "      <th>1001999995</th>\n",
       "      <td>WOS:000331178400067</td>\n",
       "      <td>&lt;NA&gt;</td>\n",
       "      <td>&lt;NA&gt;</td>\n",
       "      <td>WOS:000184382700010</td>\n",
       "      <td>15</td>\n",
       "      <td>0</td>\n",
       "    </tr>\n",
       "    <tr>\n",
       "      <th>1001999996</th>\n",
       "      <td>WOS:000331178400067</td>\n",
       "      <td>&lt;NA&gt;</td>\n",
       "      <td>&lt;NA&gt;</td>\n",
       "      <td>WOS:000274675000001</td>\n",
       "      <td>15</td>\n",
       "      <td>1</td>\n",
       "    </tr>\n",
       "    <tr>\n",
       "      <th>1001999997</th>\n",
       "      <td>WOS:000325157800001</td>\n",
       "      <td>25</td>\n",
       "      <td>2013</td>\n",
       "      <td>WOS:A1991GL69600062</td>\n",
       "      <td>59</td>\n",
       "      <td>0</td>\n",
       "    </tr>\n",
       "    <tr>\n",
       "      <th>1001999998</th>\n",
       "      <td>WOS:000325157800001</td>\n",
       "      <td>25</td>\n",
       "      <td>2013</td>\n",
       "      <td>WOS:A1977DZ86400001</td>\n",
       "      <td>59</td>\n",
       "      <td>0</td>\n",
       "    </tr>\n",
       "    <tr>\n",
       "      <th>1001999999</th>\n",
       "      <td>WOS:000325157800001</td>\n",
       "      <td>25</td>\n",
       "      <td>2013</td>\n",
       "      <td>WOS:A19613759B00146</td>\n",
       "      <td>59</td>\n",
       "      <td>0</td>\n",
       "    </tr>\n",
       "  </tbody>\n",
       "</table>\n",
       "<p>1002000000 rows × 6 columns</p>\n",
       "</div>"
      ],
      "text/plain": [
       "                            uid  cluster_id  pubyear2               refs_uid  \\\n",
       "0           WOS:000201977400052        <NA>      <NA>  WOS:000201977400052.1   \n",
       "1           WOS:000200451400481        <NA>      <NA>  WOS:000200451400481.4   \n",
       "2           WOS:000200451400481        <NA>      <NA>  WOS:000200451400481.2   \n",
       "3           WOS:000200451400481        <NA>      <NA>  WOS:000200451400481.1   \n",
       "4           WOS:000200451400481        <NA>      <NA>  WOS:000200451400481.5   \n",
       "...                         ...         ...       ...                    ...   \n",
       "1001999995  WOS:000331178400067        <NA>      <NA>    WOS:000184382700010   \n",
       "1001999996  WOS:000331178400067        <NA>      <NA>    WOS:000274675000001   \n",
       "1001999997  WOS:000325157800001          25      2013    WOS:A1991GL69600062   \n",
       "1001999998  WOS:000325157800001          25      2013    WOS:A1977DZ86400001   \n",
       "1001999999  WOS:000325157800001          25      2013    WOS:A19613759B00146   \n",
       "\n",
       "            refs_n within_core  \n",
       "0                1           0  \n",
       "1                5           0  \n",
       "2                5           0  \n",
       "3                5           0  \n",
       "4                5           0  \n",
       "...            ...         ...  \n",
       "1001999995      15           0  \n",
       "1001999996      15           1  \n",
       "1001999997      59           0  \n",
       "1001999998      59           0  \n",
       "1001999999      59           0  \n",
       "\n",
       "[1002000000 rows x 6 columns]"
      ]
     },
     "execution_count": 20,
     "metadata": {},
     "output_type": "execute_result"
    }
   ],
   "source": [
    "third_result2"
   ]
  }
 ],
 "metadata": {
  "kernelspec": {
   "display_name": "Python 3 (ipykernel)",
   "language": "python",
   "name": "python3"
  },
  "language_info": {
   "codemirror_mode": {
    "name": "ipython",
    "version": 3
   },
   "file_extension": ".py",
   "mimetype": "text/x-python",
   "name": "python",
   "nbconvert_exporter": "python",
   "pygments_lexer": "ipython3",
   "version": "3.11.5"
  }
 },
 "nbformat": 4,
 "nbformat_minor": 5
}
