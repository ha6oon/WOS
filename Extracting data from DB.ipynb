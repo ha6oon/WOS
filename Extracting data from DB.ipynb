{
 "cells": [
  {
   "cell_type": "markdown",
   "id": "5d970954",
   "metadata": {},
   "source": [
    "# 글로벌 R&D 분석센터 DB의 'web_of_sciecne_2300_raw' 이름의 데이터베이스에서 필요한 테이블 및 컬럼을 추출함"
   ]
  },
  {
   "cell_type": "markdown",
   "id": "8366d350",
   "metadata": {},
   "source": [
    "< 보고사항 >\n",
    "1. 여러 주피터 노트북 워크시트를 합한 파일이므로 변수명의 중복이 있을 수 있음. 이 점을 인지하여 코드를 활용하길 바람.  \n",
    "2. 쿼리 요청시 필요 테이블끼리 join해서 데려오는 방법도 있지만, 필자는 테이블별로 우선 필요 컬럼만 필터링하여 로컬에 txt로 저장한 후, 이 txt 파일들을 pandas df로 로드하여 pandas의 merge()를 사용하여 조인을 구현.  \n",
    "3. 최종본은 txt로 저장하는게 규정돼있지만, 중간과정은 parquet로 저장 및 로드하는게 효율적임. 하지만 txt로 저장하면 미리보기를 이용하여 보기 편리해서 중간과정도 txt로 저장함. 더 효율적인걸 추구하려면 parquet를 추천함.  "
   ]
  },
  {
   "cell_type": "code",
   "execution_count": null,
   "id": "2a2a9ef8",
   "metadata": {},
   "outputs": [],
   "source": [
    "import pymysql\n",
    "from sqlalchemy import create_engine\n",
    "import pandas as pd\n",
    "from pandas.io import sql\n",
    "import datetime\n",
    "import pandas as pd\n",
    "import pandasql as ps\n",
    "import csv"
   ]
  },
  {
   "cell_type": "markdown",
   "id": "5334a776",
   "metadata": {},
   "source": [
    "## DB connection 정보 입력"
   ]
  },
  {
   "cell_type": "code",
   "execution_count": null,
   "id": "d7c02c03",
   "metadata": {},
   "outputs": [],
   "source": [
    "# DB connection Info\n",
    "user = 'user'\n",
    "pw = 'pw'\n",
    "ip = 'ip'\n",
    "port = 'port'\n",
    "db = 'db_name'    # SQL client -> 필요한 DB 이름 확인"
   ]
  },
  {
   "cell_type": "markdown",
   "id": "18093221",
   "metadata": {},
   "source": [
    "## DB로부터 abstract 테이블 데이터 추출(필요컬럼만)"
   ]
  },
  {
   "cell_type": "code",
   "execution_count": null,
   "id": "5b6a5bfa",
   "metadata": {},
   "outputs": [],
   "source": [
    "now = datetime.datetime.now() \n",
    "print('시작:', now)\n",
    "\n",
    "# Query\n",
    "query = \"\"\"\n",
    "SELECT uid, abstract_text AS abstract\n",
    "FROM abstract\n",
    ";\n",
    "\"\"\"\n",
    "\n",
    "# DB Connect\n",
    "pymysql.install_as_MySQLdb()\n",
    "cnx = create_engine(\"mysql://{user}:{pw}@{ip}:{port}/{db}\".format(user=user, pw=pw, ip=ip, port=port, db=db))\n",
    "cnx.begin()\n",
    "\n",
    "# Query Execution\n",
    "df = pd.read_sql_query(query, cnx)\n",
    "\n",
    "# DB Disconnect\n",
    "cnx.dispose()\n",
    "\n",
    "# Save DataFrame to txt\n",
    "df.to_csv('./dict/abstract.txt', sep='\\t', index=False)\n",
    "\n",
    "now = datetime.datetime.now()\n",
    "print('종료:', now)\n",
    "\n",
    "df"
   ]
  },
  {
   "cell_type": "code",
   "execution_count": null,
   "id": "01e0aa07",
   "metadata": {},
   "outputs": [],
   "source": [
    "df['abstract'] = df['abstract'].str.strip('\"')\n",
    "\n",
    "df"
   ]
  },
  {
   "cell_type": "code",
   "execution_count": null,
   "id": "8819afb8",
   "metadata": {},
   "outputs": [],
   "source": [
    "df['abstract'] = df['abstract'].str.strip('\\n')\n",
    "\n",
    "df"
   ]
  },
  {
   "cell_type": "code",
   "execution_count": null,
   "id": "df236934",
   "metadata": {},
   "outputs": [],
   "source": [
    "# 텍스트 파일로 저장, 큰따옴표 없이\n",
    "df.to_csv('./mid/abstract.txt', sep='\\t', index=False, quoting=csv.QUOTE_NONE, escapechar='\\\\')"
   ]
  },
  {
   "cell_type": "markdown",
   "id": "8c749afd",
   "metadata": {},
   "source": [
    "## DB로부터 keyword 테이블 데이터 추출(필요컬럼만), 복분류시 ;로 collapse"
   ]
  },
  {
   "cell_type": "code",
   "execution_count": null,
   "id": "71962ab2",
   "metadata": {},
   "outputs": [],
   "source": [
    "now = datetime.datetime.now() \n",
    "print('시작:', now)\n",
    "\n",
    "# Query\n",
    "query = \"\"\"\n",
    "SELECT uid, keyword\n",
    "FROM keyword\n",
    ";\n",
    "\"\"\"\n",
    "\n",
    "# DB Connect\n",
    "pymysql.install_as_MySQLdb()\n",
    "cnx = create_engine(\"mysql://{user}:{pw}@{ip}:{port}/{db}\".format(user=user, pw=pw, ip=ip, port=port, db=db))\n",
    "cnx.begin()\n",
    "\n",
    "# Query Execution\n",
    "df = pd.read_sql_query(query, cnx)\n",
    "\n",
    "# DB Disconnect\n",
    "cnx.dispose()\n",
    "\n",
    "\n",
    "# Save DataFrame to txt\n",
    "df.to_csv('./dict/keyword.txt', sep='\\t', index=False)\n",
    "\n",
    "now = datetime.datetime.now()\n",
    "print('종료:', now)\n",
    "\n",
    "df"
   ]
  },
  {
   "cell_type": "code",
   "execution_count": null,
   "id": "847df078",
   "metadata": {},
   "outputs": [],
   "source": [
    "# reading \n",
    "now = datetime.datetime.now() \n",
    "print('시작:', now)\n",
    "df = pd.read_csv('./dict/keyword.txt', sep='\\t')\n",
    "now = datetime.datetime.now()\n",
    "print('종료:', now)"
   ]
  },
  {
   "cell_type": "code",
   "execution_count": null,
   "id": "50661453",
   "metadata": {},
   "outputs": [],
   "source": [
    "# null 값이 아닌 keyword 값만을 선택합니다.\n",
    "df = df.dropna(subset=['keyword'])\n",
    "\n",
    "# 이제 keyword 열의 모든 값을 문자열로 변환합니다.\n",
    "df['keyword'] = df['keyword'].astype(str)\n",
    "\n",
    "# uid 별로 keyword를 세미콜론으로 연결합니다. null 값은 이미 제거되었습니다.\n",
    "df_grouped = df.groupby('uid')['keyword'].apply(lambda x: ';'.join(x)).reset_index()\n",
    "\n",
    "# 결과를 확인합니다.\n",
    "print(df_grouped)"
   ]
  },
  {
   "cell_type": "code",
   "execution_count": null,
   "id": "1dc4e2b3",
   "metadata": {},
   "outputs": [],
   "source": [
    "# Save DataFrame to txt\n",
    "df_grouped.to_csv('./mid/aukey.txt', sep='\\t', index=False)"
   ]
  },
  {
   "cell_type": "markdown",
   "id": "a0670b6e",
   "metadata": {},
   "source": [
    "## DB로부터 doctype 테이블 데이터 추출(필요컬럼만)"
   ]
  },
  {
   "cell_type": "code",
   "execution_count": null,
   "id": "1b870568",
   "metadata": {},
   "outputs": [],
   "source": [
    "now = datetime.datetime.now() \n",
    "print('시작:', now)\n",
    "\n",
    "# Query\n",
    "query = \"\"\"\n",
    "SELECT uid, doctype AS doctype2\n",
    "FROM doctype\n",
    "\n",
    ";\n",
    "\"\"\"\n",
    "\n",
    "# DB Connect\n",
    "pymysql.install_as_MySQLdb()\n",
    "cnx = create_engine(\"mysql://{user}:{pw}@{ip}:{port}/{db}\".format(user=user, pw=pw, ip=ip, port=port, db=db))\n",
    "cnx.begin()\n",
    "\n",
    "# Query Execution\n",
    "df = pd.read_sql_query(query, cnx)\n",
    "\n",
    "# DB Disconnect\n",
    "cnx.dispose()\n",
    "\n",
    "\n",
    "# Save DataFrame to txt\n",
    "df.to_csv('./dict/doctype.txt', sep='\\t', index=False)\n",
    "\n",
    "now = datetime.datetime.now()\n",
    "print('종료:', now)\n",
    "\n",
    "df"
   ]
  },
  {
   "cell_type": "markdown",
   "id": "7912a133",
   "metadata": {},
   "source": [
    "## DB로부터 edition 테이블 데이터 추출(필요컬럼만)"
   ]
  },
  {
   "cell_type": "code",
   "execution_count": null,
   "id": "042e0f6e",
   "metadata": {},
   "outputs": [],
   "source": [
    "now = datetime.datetime.now() \n",
    "print('시작:', now)\n",
    "\n",
    "# Query\n",
    "query = \"\"\"\n",
    "SELECT uid,edition\n",
    "FROM edition\n",
    ";\n",
    "\"\"\"\n",
    "\n",
    "# DB Connect\n",
    "pymysql.install_as_MySQLdb()\n",
    "cnx = create_engine(\"mysql://{user}:{pw}@{ip}:{port}/{db}\".format(user=user, pw=pw, ip=ip, port=port, db=db))\n",
    "cnx.begin()\n",
    "\n",
    "# Query Execution\n",
    "df = pd.read_sql_query(query, cnx)\n",
    "\n",
    "# DB Disconnect\n",
    "cnx.dispose()\n",
    "\n",
    "\n",
    "# Save DataFrame to txt\n",
    "df.to_csv('./dict/edition.txt', sep='\\t', index=False)\n",
    "\n",
    "now = datetime.datetime.now()\n",
    "print('종료:', now)\n",
    "\n",
    "df"
   ]
  },
  {
   "cell_type": "markdown",
   "id": "5e152955",
   "metadata": {},
   "source": [
    "## DB로부터 identifier테이블 데이터 추출(필요컬럼만)"
   ]
  },
  {
   "cell_type": "code",
   "execution_count": null,
   "id": "2a27a213",
   "metadata": {},
   "outputs": [],
   "source": [
    "now = datetime.datetime.now() \n",
    "print('시작:', now)\n",
    "\n",
    "# Query\n",
    "query = \"\"\"\n",
    "SELECT uid,edition\n",
    "FROM edition\n",
    ";\n",
    "\"\"\"\n",
    "\n",
    "# DB Connect\n",
    "pymysql.install_as_MySQLdb()\n",
    "cnx = create_engine(\"mysql://{user}:{pw}@{ip}:{port}/{db}\".format(user=user, pw=pw, ip=ip, port=port, db=db))\n",
    "cnx.begin()\n",
    "\n",
    "# Query Execution\n",
    "df = pd.read_sql_query(query, cnx)\n",
    "\n",
    "# DB Disconnect\n",
    "cnx.dispose()\n",
    "\n",
    "# 필요 컬럼만 추출\n",
    "#df = df[['uid', 'sortdate', 'pubyear', 'pubtype']]\n",
    "\n",
    "# Save DataFrame to txt\n",
    "df.to_csv('./dict/edition.txt', sep='\\t', index=False)\n",
    "\n",
    "now = datetime.datetime.now()\n",
    "print('종료:', now)\n",
    "\n",
    "df"
   ]
  },
  {
   "cell_type": "markdown",
   "id": "fc117a24",
   "metadata": {},
   "source": [
    "## DB로부터 source 테이블 데이터 추출(필요컬럼만)"
   ]
  },
  {
   "cell_type": "code",
   "execution_count": null,
   "id": "c17f761c",
   "metadata": {},
   "outputs": [],
   "source": [
    "now = datetime.datetime.now() \n",
    "print('시작:', now)\n",
    "\n",
    "# Query\n",
    "query = \"\"\"\n",
    "SELECT uid,source,source_abbrev\n",
    "FROM source\n",
    ";\n",
    "\"\"\"\n",
    "\n",
    "# DB Connect\n",
    "pymysql.install_as_MySQLdb()\n",
    "cnx = create_engine(\"mysql://{user}:{pw}@{ip}:{port}/{db}\".format(user=user, pw=pw, ip=ip, port=port, db=db))\n",
    "cnx.begin()\n",
    "\n",
    "# Query Execution\n",
    "df = pd.read_sql_query(query, cnx)\n",
    "\n",
    "# DB Disconnect\n",
    "cnx.dispose()\n",
    "\n",
    "# 필요 컬럼만 추출\n",
    "#df = df[['uid', 'sortdate', 'pubyear', 'pubtype']]\n",
    "\n",
    "# Save DataFrame to txt\n",
    "df.to_csv('./dict/source.txt', sep='\\t', index=False)\n",
    "\n",
    "now = datetime.datetime.now()\n",
    "print('종료:', now)\n",
    "\n",
    "df"
   ]
  },
  {
   "cell_type": "markdown",
   "id": "389a86b8",
   "metadata": {},
   "source": [
    "## DB로부터 coretc 테이블 데이터 추출(필요컬럼만)"
   ]
  },
  {
   "cell_type": "code",
   "execution_count": null,
   "id": "05b2042f",
   "metadata": {},
   "outputs": [],
   "source": [
    "now = datetime.datetime.now() \n",
    "print('시작:', now)\n",
    "\n",
    "# Query\n",
    "query = \"\"\"\n",
    "SELECT uid,title AS item\n",
    "FROM title\n",
    ";\n",
    "\"\"\"\n",
    "\n",
    "# DB Connect\n",
    "pymysql.install_as_MySQLdb()\n",
    "cnx = create_engine(\"mysql://{user}:{pw}@{ip}:{port}/{db}\".format(user=user, pw=pw, ip=ip, port=port, db=db))\n",
    "cnx.begin()\n",
    "\n",
    "# Query Execution\n",
    "df = pd.read_sql_query(query, cnx)\n",
    "\n",
    "# DB Disconnect\n",
    "cnx.dispose()\n",
    "\n",
    "# 필요 컬럼만 추출\n",
    "#df = df[['uid', 'sortdate', 'pubyear', 'pubtype']]\n",
    "\n",
    "# Save DataFrame to txt\n",
    "df.to_csv('./dict/title.txt', sep='\\t', index=False)\n",
    "\n",
    "now = datetime.datetime.now()\n",
    "print('종료:', now)\n",
    "\n",
    "df"
   ]
  },
  {
   "cell_type": "markdown",
   "id": "200e9389",
   "metadata": {},
   "source": [
    "## DB로부터 title 테이블 데이터 추출(필요컬럼만)"
   ]
  },
  {
   "cell_type": "code",
   "execution_count": null,
   "id": "39100d90",
   "metadata": {},
   "outputs": [],
   "source": [
    "now = datetime.datetime.now() \n",
    "print('시작:', now)\n",
    "\n",
    "# Query\n",
    "query = \"\"\"\n",
    "SELECT uid, wos_total AS tc\n",
    "FROM coretc\n",
    ";\n",
    "\"\"\"\n",
    "\n",
    "# DB Connect\n",
    "pymysql.install_as_MySQLdb()\n",
    "cnx = create_engine(\"mysql://{user}:{pw}@{ip}:{port}/{db}\".format(user=user, pw=pw, ip=ip, port=port, db=db))\n",
    "cnx.begin()\n",
    "\n",
    "# Query Execution\n",
    "df = pd.read_sql_query(query, cnx)\n",
    "\n",
    "# DB Disconnect\n",
    "cnx.dispose()\n",
    "\n",
    "# 필요 컬럼만 추출\n",
    "#df = df[['uid', 'sortdate', 'pubyear', 'pubtype']]\n",
    "\n",
    "# Save DataFrame to txt\n",
    "df.to_csv('./dict/coretc.txt', sep='\\t', index=False)\n",
    "\n",
    "now = datetime.datetime.now()\n",
    "print('종료:', now)\n",
    "\n",
    "df"
   ]
  },
  {
   "cell_type": "markdown",
   "id": "dd1bfeee",
   "metadata": {},
   "source": [
    "## DB로부터 pub_info 테이블 데이터 추출(필요컬럼만). pubyear ≥ 2006인것만 추출."
   ]
  },
  {
   "cell_type": "code",
   "execution_count": null,
   "id": "93632450",
   "metadata": {},
   "outputs": [],
   "source": [
    "now = datetime.datetime.now() \n",
    "print('시작:', now)\n",
    "\n",
    "# Query\n",
    "query = \"\"\"\n",
    "SELECT *\n",
    "FROM pub_info\n",
    "WHERE pubyear >= 2006\n",
    ";\n",
    "\"\"\"\n",
    "\n",
    "# DB Connect\n",
    "pymysql.install_as_MySQLdb()\n",
    "cnx = create_engine(\"mysql://{user}:{pw}@{ip}:{port}/{db}\".format(user=user, pw=pw, ip=ip, port=port, db=db))\n",
    "cnx.begin()\n",
    "\n",
    "# Query Execution\n",
    "df = pd.read_sql_query(query, cnx)\n",
    "\n",
    "# DB Disconnect\n",
    "cnx.dispose()\n",
    "\n",
    "# 필요 컬럼만 추출\n",
    "#df = df[['uid', 'sortdate', 'pubyear', 'pubtype']]\n",
    "\n",
    "# Save DataFrame to txt\n",
    "df.to_csv('./dict/pub_info_total.txt', sep='\\t', index=False)\n",
    "\n",
    "now = datetime.datetime.now()\n",
    "print('종료:', now)\n",
    "\n",
    "df"
   ]
  },
  {
   "cell_type": "markdown",
   "id": "b74162c5",
   "metadata": {},
   "source": [
    "### uid 컬럼 uniqueness 검증 및 처리\n",
    "uid 컬럼에 대해 유일성 검토하여 중복 제거 처리  \n",
    "중복된 uid 행을 추출하여 csv파일로 저장 -> 육안 검토 후 내용이 모두 같음을 파악 -> uid 컬럼 기준으로 중복제거함"
   ]
  },
  {
   "cell_type": "code",
   "execution_count": null,
   "id": "f81a9274",
   "metadata": {},
   "outputs": [],
   "source": [
    "# uid 컬럼에서 중복된 값을 찾음 (모든 중복 표시)\n",
    "duplicated_rows = df[df.duplicated('uid', keep=False)]\n",
    "\n",
    "# 중복된 uid 값들을 가진 행 출력\n",
    "print(duplicated_rows)\n",
    "\n",
    "duplicated_rows.to_csv('./check/duplicated_uids_total.csv', index=False)"
   ]
  },
  {
   "cell_type": "code",
   "execution_count": null,
   "id": "0d998ffe",
   "metadata": {},
   "outputs": [],
   "source": [
    "# uid 컬럼 기준으로 중복 제거 (첫 번째 행만 남김)\n",
    "df_unique = df.drop_duplicates(subset='uid', keep='first')\n",
    "\n",
    "# 결과 확인\n",
    "print(df_unique)# 추가 작업시 행 변환 해야함 pubyear -> pubyear2"
   ]
  },
  {
   "cell_type": "code",
   "execution_count": null,
   "id": "76470fdc",
   "metadata": {},
   "outputs": [],
   "source": [
    "now = datetime.datetime.now() \n",
    "print('시작:', now)\n",
    "df_unique.to_csv('./dict/pub_info_unique.txt', sep='\\t', index=False)\n",
    "now = datetime.datetime.now()\n",
    "print('종료:', now)\n",
    "\n"
   ]
  },
  {
   "cell_type": "code",
   "execution_count": null,
   "id": "dc68343e",
   "metadata": {},
   "outputs": [],
   "source": [
    "# 두 개의 컬럼만 추출하여 저장\n",
    "now = datetime.datetime.now() \n",
    "print('시작:', now)\n",
    "\n",
    "# Query\n",
    "query = \"\"\"\n",
    "SELECT uid, pubyear AS pubyear2\n",
    "FROM df_unique\n",
    ";\n",
    "\"\"\"\n",
    "\n",
    "# pandasql을 사용하여 쿼리 실행\n",
    "df3= ps.sqldf(query)\n",
    "\n",
    "\n",
    "now = datetime.datetime.now()\n",
    "print('종료:', now)\n",
    "\n",
    "df3"
   ]
  },
  {
   "cell_type": "code",
   "execution_count": null,
   "id": "438e3e8a",
   "metadata": {},
   "outputs": [],
   "source": [
    "now = datetime.datetime.now() \n",
    "print('시작:', now)\n",
    "df3.to_csv('./dict/pub_info_unique_2col.txt', sep='\\t', index=False)\n",
    "now = datetime.datetime.now()\n",
    "print('종료:', now)"
   ]
  }
 ],
 "metadata": {
  "kernelspec": {
   "display_name": "Python 3 (ipykernel)",
   "language": "python",
   "name": "python3"
  },
  "language_info": {
   "codemirror_mode": {
    "name": "ipython",
    "version": 3
   },
   "file_extension": ".py",
   "mimetype": "text/x-python",
   "name": "python",
   "nbconvert_exporter": "python",
   "pygments_lexer": "ipython3",
   "version": "3.11.5"
  }
 },
 "nbformat": 4,
 "nbformat_minor": 5
}
