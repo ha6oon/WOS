{
 "cells": [
  {
   "cell_type": "code",
   "execution_count": 2,
   "id": "bbbc9c5b",
   "metadata": {},
   "outputs": [],
   "source": [
    "import pymysql\n",
    "from sqlalchemy import create_engine\n",
    "import pandas as pd\n",
    "from pandas.io import sql\n",
    "import datetime\n",
    "import pandas as pd\n",
    "import pandasql as ps\n",
    "from concurrent.futures import ThreadPoolExecutor, as_completed"
   ]
  },
  {
   "cell_type": "code",
   "execution_count": 3,
   "id": "b0828509",
   "metadata": {},
   "outputs": [
    {
     "name": "stdout",
     "output_type": "stream",
     "text": [
      "시작: 2024-02-23 09:16:45.725226\n",
      "종료: 2024-02-23 09:16:57.958981\n"
     ]
    }
   ],
   "source": [
    "# reading \n",
    "now = datetime.datetime.now() \n",
    "print('시작:', now)\n",
    "agg3 =  pd.read_csv('./mid/agg3.txt', sep='\\t')\n",
    "\n",
    "now = datetime.datetime.now()\n",
    "print('종료:', now)"
   ]
  },
  {
   "cell_type": "code",
   "execution_count": 5,
   "id": "84e23726",
   "metadata": {},
   "outputs": [
    {
     "name": "stdout",
     "output_type": "stream",
     "text": [
      "시작: 2024-02-23 09:22:49.812697\n",
      "종료: 2024-02-23 09:33:29.798942\n"
     ]
    }
   ],
   "source": [
    "# reading \n",
    "now = datetime.datetime.now() \n",
    "print('시작:', now)\n",
    "\n",
    "merged_references_991_to_2028 = pd.read_csv('./reference/merged_references_991_to_2028.txt',  sep='\\t')\n",
    "now = datetime.datetime.now()\n",
    "print('종료:', now)"
   ]
  },
  {
   "cell_type": "code",
   "execution_count": 4,
   "id": "fe6b2d80",
   "metadata": {},
   "outputs": [
    {
     "data": {
      "text/html": [
       "<div>\n",
       "<style scoped>\n",
       "    .dataframe tbody tr th:only-of-type {\n",
       "        vertical-align: middle;\n",
       "    }\n",
       "\n",
       "    .dataframe tbody tr th {\n",
       "        vertical-align: top;\n",
       "    }\n",
       "\n",
       "    .dataframe thead th {\n",
       "        text-align: right;\n",
       "    }\n",
       "</style>\n",
       "<table border=\"1\" class=\"dataframe\">\n",
       "  <thead>\n",
       "    <tr style=\"text-align: right;\">\n",
       "      <th></th>\n",
       "      <th>uid</th>\n",
       "      <th>cluster_id</th>\n",
       "      <th>pubyear2</th>\n",
       "    </tr>\n",
       "  </thead>\n",
       "  <tbody>\n",
       "    <tr>\n",
       "      <th>0</th>\n",
       "      <td>WOS:000239031100003</td>\n",
       "      <td>1333</td>\n",
       "      <td>2006</td>\n",
       "    </tr>\n",
       "    <tr>\n",
       "      <th>1</th>\n",
       "      <td>WOS:000234737300014</td>\n",
       "      <td>846</td>\n",
       "      <td>2006</td>\n",
       "    </tr>\n",
       "    <tr>\n",
       "      <th>2</th>\n",
       "      <td>WOS:000241844400003</td>\n",
       "      <td>997</td>\n",
       "      <td>2006</td>\n",
       "    </tr>\n",
       "    <tr>\n",
       "      <th>3</th>\n",
       "      <td>WOS:000417059300001</td>\n",
       "      <td>151</td>\n",
       "      <td>2006</td>\n",
       "    </tr>\n",
       "    <tr>\n",
       "      <th>4</th>\n",
       "      <td>WOS:000235792300010</td>\n",
       "      <td>210</td>\n",
       "      <td>2006</td>\n",
       "    </tr>\n",
       "    <tr>\n",
       "      <th>...</th>\n",
       "      <td>...</td>\n",
       "      <td>...</td>\n",
       "      <td>...</td>\n",
       "    </tr>\n",
       "    <tr>\n",
       "      <th>24339950</th>\n",
       "      <td>WOS:000750113400001</td>\n",
       "      <td>2719</td>\n",
       "      <td>2021</td>\n",
       "    </tr>\n",
       "    <tr>\n",
       "      <th>24339951</th>\n",
       "      <td>WOS:000839344100002</td>\n",
       "      <td>1636</td>\n",
       "      <td>2022</td>\n",
       "    </tr>\n",
       "    <tr>\n",
       "      <th>24339952</th>\n",
       "      <td>WOS:000798801800001</td>\n",
       "      <td>3584</td>\n",
       "      <td>2021</td>\n",
       "    </tr>\n",
       "    <tr>\n",
       "      <th>24339953</th>\n",
       "      <td>WOS:000763296900001</td>\n",
       "      <td>2034</td>\n",
       "      <td>2021</td>\n",
       "    </tr>\n",
       "    <tr>\n",
       "      <th>24339954</th>\n",
       "      <td>WOS:000738563300001</td>\n",
       "      <td>2136</td>\n",
       "      <td>2021</td>\n",
       "    </tr>\n",
       "  </tbody>\n",
       "</table>\n",
       "<p>24339955 rows × 3 columns</p>\n",
       "</div>"
      ],
      "text/plain": [
       "                          uid  cluster_id  pubyear2\n",
       "0         WOS:000239031100003        1333      2006\n",
       "1         WOS:000234737300014         846      2006\n",
       "2         WOS:000241844400003         997      2006\n",
       "3         WOS:000417059300001         151      2006\n",
       "4         WOS:000235792300010         210      2006\n",
       "...                       ...         ...       ...\n",
       "24339950  WOS:000750113400001        2719      2021\n",
       "24339951  WOS:000839344100002        1636      2022\n",
       "24339952  WOS:000798801800001        3584      2021\n",
       "24339953  WOS:000763296900001        2034      2021\n",
       "24339954  WOS:000738563300001        2136      2021\n",
       "\n",
       "[24339955 rows x 3 columns]"
      ]
     },
     "execution_count": 4,
     "metadata": {},
     "output_type": "execute_result"
    }
   ],
   "source": [
    "agg3"
   ]
  },
  {
   "cell_type": "code",
   "execution_count": 6,
   "id": "b1d8c9bb",
   "metadata": {},
   "outputs": [
    {
     "data": {
      "text/html": [
       "<div>\n",
       "<style scoped>\n",
       "    .dataframe tbody tr th:only-of-type {\n",
       "        vertical-align: middle;\n",
       "    }\n",
       "\n",
       "    .dataframe tbody tr th {\n",
       "        vertical-align: top;\n",
       "    }\n",
       "\n",
       "    .dataframe thead th {\n",
       "        text-align: right;\n",
       "    }\n",
       "</style>\n",
       "<table border=\"1\" class=\"dataframe\">\n",
       "  <thead>\n",
       "    <tr style=\"text-align: right;\">\n",
       "      <th></th>\n",
       "      <th>uid</th>\n",
       "      <th>ref_uid</th>\n",
       "      <th>ref_count</th>\n",
       "    </tr>\n",
       "  </thead>\n",
       "  <tbody>\n",
       "    <tr>\n",
       "      <th>0</th>\n",
       "      <td>WOS:000325157800001</td>\n",
       "      <td>WOS:000169875200049</td>\n",
       "      <td>59</td>\n",
       "    </tr>\n",
       "    <tr>\n",
       "      <th>1</th>\n",
       "      <td>WOS:000325157800001</td>\n",
       "      <td>WOS:000187577400045</td>\n",
       "      <td>59</td>\n",
       "    </tr>\n",
       "    <tr>\n",
       "      <th>2</th>\n",
       "      <td>WOS:000325157800001</td>\n",
       "      <td>WOS:000180545300005</td>\n",
       "      <td>59</td>\n",
       "    </tr>\n",
       "    <tr>\n",
       "      <th>3</th>\n",
       "      <td>WOS:000325157800001</td>\n",
       "      <td>WOS:000188445200197</td>\n",
       "      <td>59</td>\n",
       "    </tr>\n",
       "    <tr>\n",
       "      <th>4</th>\n",
       "      <td>WOS:000325157800001</td>\n",
       "      <td>WOS:A1972M852600031</td>\n",
       "      <td>59</td>\n",
       "    </tr>\n",
       "    <tr>\n",
       "      <th>...</th>\n",
       "      <td>...</td>\n",
       "      <td>...</td>\n",
       "      <td>...</td>\n",
       "    </tr>\n",
       "    <tr>\n",
       "      <th>1037622920</th>\n",
       "      <td>WOS:000799950200001</td>\n",
       "      <td>000799950200001.23</td>\n",
       "      <td>52</td>\n",
       "    </tr>\n",
       "    <tr>\n",
       "      <th>1037622921</th>\n",
       "      <td>WOS:000799950200001</td>\n",
       "      <td>000799950200001.22</td>\n",
       "      <td>52</td>\n",
       "    </tr>\n",
       "    <tr>\n",
       "      <th>1037622922</th>\n",
       "      <td>WOS:000799950200001</td>\n",
       "      <td>WOS:000316422500018</td>\n",
       "      <td>52</td>\n",
       "    </tr>\n",
       "    <tr>\n",
       "      <th>1037622923</th>\n",
       "      <td>WOS:000799950200001</td>\n",
       "      <td>000799950200001.48</td>\n",
       "      <td>52</td>\n",
       "    </tr>\n",
       "    <tr>\n",
       "      <th>1037622924</th>\n",
       "      <td>WOS:000799950200001</td>\n",
       "      <td>000799950200001.25</td>\n",
       "      <td>52</td>\n",
       "    </tr>\n",
       "  </tbody>\n",
       "</table>\n",
       "<p>1037622925 rows × 3 columns</p>\n",
       "</div>"
      ],
      "text/plain": [
       "                            uid              ref_uid  ref_count\n",
       "0           WOS:000325157800001  WOS:000169875200049         59\n",
       "1           WOS:000325157800001  WOS:000187577400045         59\n",
       "2           WOS:000325157800001  WOS:000180545300005         59\n",
       "3           WOS:000325157800001  WOS:000188445200197         59\n",
       "4           WOS:000325157800001  WOS:A1972M852600031         59\n",
       "...                         ...                  ...        ...\n",
       "1037622920  WOS:000799950200001   000799950200001.23         52\n",
       "1037622921  WOS:000799950200001   000799950200001.22         52\n",
       "1037622922  WOS:000799950200001  WOS:000316422500018         52\n",
       "1037622923  WOS:000799950200001   000799950200001.48         52\n",
       "1037622924  WOS:000799950200001   000799950200001.25         52\n",
       "\n",
       "[1037622925 rows x 3 columns]"
      ]
     },
     "execution_count": 6,
     "metadata": {},
     "output_type": "execute_result"
    }
   ],
   "source": [
    "merged_references_991_to_2028"
   ]
  },
  {
   "cell_type": "code",
   "execution_count": 7,
   "id": "4ed8f678",
   "metadata": {},
   "outputs": [
    {
     "name": "stdout",
     "output_type": "stream",
     "text": [
      "uid              0\n",
      "ref_uid      69991\n",
      "ref_count        0\n",
      "dtype: int64\n"
     ]
    }
   ],
   "source": [
    "# 각 컬럼별 null 값의 개수 계산\n",
    "null_counts000 = merged_references_991_to_2028.isnull().sum()\n",
    "\n",
    "# 결과 출력\n",
    "print(null_counts000)"
   ]
  },
  {
   "cell_type": "markdown",
   "id": "c991fc65",
   "metadata": {},
   "source": [
    "조인하기"
   ]
  },
  {
   "cell_type": "code",
   "execution_count": 8,
   "id": "d0cf4b23",
   "metadata": {},
   "outputs": [
    {
     "name": "stdout",
     "output_type": "stream",
     "text": [
      "시작: 2024-02-23 09:34:52.040620\n",
      "종료: 2024-02-23 09:37:52.762351\n"
     ]
    }
   ],
   "source": [
    "now = datetime.datetime.now() \n",
    "print('시작:', now)\n",
    "\n",
    "third_result4 = pd.merge(merged_references_991_to_2028,agg3, on='uid', how='left')\n",
    "\n",
    "now = datetime.datetime.now()\n",
    "print('종료:', now)"
   ]
  },
  {
   "cell_type": "code",
   "execution_count": 9,
   "id": "f2c63824",
   "metadata": {},
   "outputs": [
    {
     "name": "stdout",
     "output_type": "stream",
     "text": [
      "uid                   0\n",
      "ref_uid           69991\n",
      "ref_count             0\n",
      "cluster_id    332143243\n",
      "pubyear2      332143243\n",
      "dtype: int64\n"
     ]
    }
   ],
   "source": [
    "# 각 컬럼별 null 값의 개수 계산\n",
    "null_counts4 = third_result4.isnull().sum()\n",
    "\n",
    "# 결과 출력\n",
    "print(null_counts4)"
   ]
  },
  {
   "cell_type": "code",
   "execution_count": 10,
   "id": "0a3d1523",
   "metadata": {},
   "outputs": [
    {
     "name": "stdout",
     "output_type": "stream",
     "text": [
      "시작: 2024-02-23 09:38:44.565497\n",
      "종료: 2024-02-23 09:42:28.214196\n"
     ]
    }
   ],
   "source": [
    "now = datetime.datetime.now() \n",
    "print('시작:', now)\n",
    "\n",
    "# 컬럼명 변경\n",
    "third_result4 = third_result4.rename(columns={'ref_uid': 'refs_uid', 'ref_count': 'refs_n'})\n",
    "\n",
    "\n",
    "# 컬럼 순서를 변경하고 싶은 순서대로 지정\n",
    "new_order = ['uid' , 'cluster_id','pubyear2', 'refs_uid', 'refs_n']\n",
    "\n",
    "# 새 순서로 DataFrame을 재구성\n",
    "third_result4 = third_result4[new_order]\n",
    "\n",
    "# 정수화\n",
    "third_result4['cluster_id'] = third_result4['cluster_id'].astype('Int64')\n",
    "third_result4['pubyear2'] = third_result4['pubyear2'].astype('Int64')\n",
    "\n",
    "now = datetime.datetime.now()\n",
    "print('종료:', now)"
   ]
  },
  {
   "cell_type": "code",
   "execution_count": 11,
   "id": "b95eb154",
   "metadata": {},
   "outputs": [
    {
     "data": {
      "text/html": [
       "<div>\n",
       "<style scoped>\n",
       "    .dataframe tbody tr th:only-of-type {\n",
       "        vertical-align: middle;\n",
       "    }\n",
       "\n",
       "    .dataframe tbody tr th {\n",
       "        vertical-align: top;\n",
       "    }\n",
       "\n",
       "    .dataframe thead th {\n",
       "        text-align: right;\n",
       "    }\n",
       "</style>\n",
       "<table border=\"1\" class=\"dataframe\">\n",
       "  <thead>\n",
       "    <tr style=\"text-align: right;\">\n",
       "      <th></th>\n",
       "      <th>uid</th>\n",
       "      <th>cluster_id</th>\n",
       "      <th>pubyear2</th>\n",
       "      <th>refs_uid</th>\n",
       "      <th>refs_n</th>\n",
       "    </tr>\n",
       "  </thead>\n",
       "  <tbody>\n",
       "    <tr>\n",
       "      <th>0</th>\n",
       "      <td>WOS:000325157800001</td>\n",
       "      <td>25</td>\n",
       "      <td>2013</td>\n",
       "      <td>WOS:000169875200049</td>\n",
       "      <td>59</td>\n",
       "    </tr>\n",
       "    <tr>\n",
       "      <th>1</th>\n",
       "      <td>WOS:000325157800001</td>\n",
       "      <td>25</td>\n",
       "      <td>2013</td>\n",
       "      <td>WOS:000187577400045</td>\n",
       "      <td>59</td>\n",
       "    </tr>\n",
       "    <tr>\n",
       "      <th>2</th>\n",
       "      <td>WOS:000325157800001</td>\n",
       "      <td>25</td>\n",
       "      <td>2013</td>\n",
       "      <td>WOS:000180545300005</td>\n",
       "      <td>59</td>\n",
       "    </tr>\n",
       "    <tr>\n",
       "      <th>3</th>\n",
       "      <td>WOS:000325157800001</td>\n",
       "      <td>25</td>\n",
       "      <td>2013</td>\n",
       "      <td>WOS:000188445200197</td>\n",
       "      <td>59</td>\n",
       "    </tr>\n",
       "    <tr>\n",
       "      <th>4</th>\n",
       "      <td>WOS:000325157800001</td>\n",
       "      <td>25</td>\n",
       "      <td>2013</td>\n",
       "      <td>WOS:A1972M852600031</td>\n",
       "      <td>59</td>\n",
       "    </tr>\n",
       "    <tr>\n",
       "      <th>...</th>\n",
       "      <td>...</td>\n",
       "      <td>...</td>\n",
       "      <td>...</td>\n",
       "      <td>...</td>\n",
       "      <td>...</td>\n",
       "    </tr>\n",
       "    <tr>\n",
       "      <th>1037622920</th>\n",
       "      <td>WOS:000799950200001</td>\n",
       "      <td>&lt;NA&gt;</td>\n",
       "      <td>&lt;NA&gt;</td>\n",
       "      <td>000799950200001.23</td>\n",
       "      <td>52</td>\n",
       "    </tr>\n",
       "    <tr>\n",
       "      <th>1037622921</th>\n",
       "      <td>WOS:000799950200001</td>\n",
       "      <td>&lt;NA&gt;</td>\n",
       "      <td>&lt;NA&gt;</td>\n",
       "      <td>000799950200001.22</td>\n",
       "      <td>52</td>\n",
       "    </tr>\n",
       "    <tr>\n",
       "      <th>1037622922</th>\n",
       "      <td>WOS:000799950200001</td>\n",
       "      <td>&lt;NA&gt;</td>\n",
       "      <td>&lt;NA&gt;</td>\n",
       "      <td>WOS:000316422500018</td>\n",
       "      <td>52</td>\n",
       "    </tr>\n",
       "    <tr>\n",
       "      <th>1037622923</th>\n",
       "      <td>WOS:000799950200001</td>\n",
       "      <td>&lt;NA&gt;</td>\n",
       "      <td>&lt;NA&gt;</td>\n",
       "      <td>000799950200001.48</td>\n",
       "      <td>52</td>\n",
       "    </tr>\n",
       "    <tr>\n",
       "      <th>1037622924</th>\n",
       "      <td>WOS:000799950200001</td>\n",
       "      <td>&lt;NA&gt;</td>\n",
       "      <td>&lt;NA&gt;</td>\n",
       "      <td>000799950200001.25</td>\n",
       "      <td>52</td>\n",
       "    </tr>\n",
       "  </tbody>\n",
       "</table>\n",
       "<p>1037622925 rows × 5 columns</p>\n",
       "</div>"
      ],
      "text/plain": [
       "                            uid  cluster_id  pubyear2             refs_uid  \\\n",
       "0           WOS:000325157800001          25      2013  WOS:000169875200049   \n",
       "1           WOS:000325157800001          25      2013  WOS:000187577400045   \n",
       "2           WOS:000325157800001          25      2013  WOS:000180545300005   \n",
       "3           WOS:000325157800001          25      2013  WOS:000188445200197   \n",
       "4           WOS:000325157800001          25      2013  WOS:A1972M852600031   \n",
       "...                         ...         ...       ...                  ...   \n",
       "1037622920  WOS:000799950200001        <NA>      <NA>   000799950200001.23   \n",
       "1037622921  WOS:000799950200001        <NA>      <NA>   000799950200001.22   \n",
       "1037622922  WOS:000799950200001        <NA>      <NA>  WOS:000316422500018   \n",
       "1037622923  WOS:000799950200001        <NA>      <NA>   000799950200001.48   \n",
       "1037622924  WOS:000799950200001        <NA>      <NA>   000799950200001.25   \n",
       "\n",
       "            refs_n  \n",
       "0               59  \n",
       "1               59  \n",
       "2               59  \n",
       "3               59  \n",
       "4               59  \n",
       "...            ...  \n",
       "1037622920      52  \n",
       "1037622921      52  \n",
       "1037622922      52  \n",
       "1037622923      52  \n",
       "1037622924      52  \n",
       "\n",
       "[1037622925 rows x 5 columns]"
      ]
     },
     "execution_count": 11,
     "metadata": {},
     "output_type": "execute_result"
    }
   ],
   "source": [
    "third_result4"
   ]
  },
  {
   "cell_type": "markdown",
   "id": "89c11b92",
   "metadata": {},
   "source": [
    "ut_to_uid_is_core_set.pkl => P에서 ut를 통해 ut_to_uid(=uid)를 만듦 -> core가 1인 ut_to_uid(uid)만 추출한 set임.\n",
    "merged_references의 uid가 이 pkl에 있다면(P에 존재하고 CORE가 1임) within_core 가 1, 아님 0으로 값 조정."
   ]
  },
  {
   "cell_type": "code",
   "execution_count": 12,
   "id": "ba272053",
   "metadata": {},
   "outputs": [
    {
     "name": "stdout",
     "output_type": "stream",
     "text": [
      "ut_to_uid 컬럼 데이터의 set 크기: 22379399\n"
     ]
    }
   ],
   "source": [
    "import pickle\n",
    "\n",
    "# pickle 파일로부터 set 데이터 불러오기\n",
    "with open('./mid/ut_to_uid_is_core_set.pkl', 'rb') as file:\n",
    "    loaded_is_core_set = pickle.load(file)\n",
    "\n",
    "#print(loaded_ut_ut_to_uid_is_core_set)\n",
    "print(f\"ut_to_uid 컬럼 데이터의 set 크기: {len(loaded_is_core_set)}\")"
   ]
  },
  {
   "cell_type": "markdown",
   "id": "21aec38f",
   "metadata": {},
   "source": [
    "refs_uid에 결측값이 존재함. 0과 1을 정수형으로 저장할 수 없음. 따라서 within_core의 데이터타입을 문자열로 지정함. "
   ]
  },
  {
   "cell_type": "markdown",
   "id": "9de9486c",
   "metadata": {},
   "source": [
    "이 코드를 통해 각 행에 대해 refs_uid 값이 결측치인 경우 'NaN'을, loaded_is_core_set에 포함되어 있는 경우 '1'을, 그렇지 않은 경우 '0'을 within_core 컬럼에 할당합니다"
   ]
  },
  {
   "cell_type": "code",
   "execution_count": 14,
   "id": "11836158",
   "metadata": {},
   "outputs": [
    {
     "name": "stdout",
     "output_type": "stream",
     "text": [
      "시작: 2024-02-23 09:58:12.133907\n",
      "종료: 2024-02-23 10:10:46.958020\n"
     ]
    }
   ],
   "source": [
    "import numpy as np\n",
    "\n",
    "\n",
    "now = datetime.datetime.now() \n",
    "print('시작:', now)\n",
    "\n",
    "# third_result2 DataFrame에 within_core 컬럼 추가 및 값 할당, 문자열로 처리\n",
    "third_result4['within_core'] = third_result4['refs_uid'].apply(lambda x: 'NaN' if pd.isnull(x) else ('1' if x in loaded_is_core_set else '0'))\n",
    "\n",
    "now = datetime.datetime.now()\n",
    "print('종료:', now)"
   ]
  },
  {
   "cell_type": "markdown",
   "id": "b4990845",
   "metadata": {},
   "source": [
    " MemoryError: Unable to allocate 7.73 GiB for an array with shape (1037622925,) and data type uint64 오류는 파이썬이 요청된 크기의 배열을 메모리에 할당할 수 없을 때 발생합니다. 이 오류는 대규모 데이터를 처리하려고 할 때 특히 빈번하게 발생하며, 시스템의 사용 가능한 RAM이 요구되는 메모리 양보다 적을 때 나타납니다. "
   ]
  },
  {
   "cell_type": "markdown",
   "id": "df4feb7c",
   "metadata": {},
   "source": [
    "따라서 df를 반으로 쪼개서 작업을 시도하려했으나, 위 코드 다시 돌리니 돌아가서 그대로 사용."
   ]
  },
  {
   "cell_type": "markdown",
   "id": "0c42e126",
   "metadata": {},
   "source": [
    "within_core의 데이터 값 조사, 카운트 "
   ]
  },
  {
   "cell_type": "code",
   "execution_count": 15,
   "id": "e32653df",
   "metadata": {},
   "outputs": [
    {
     "name": "stdout",
     "output_type": "stream",
     "text": [
      "시작: 2024-02-23 10:12:33.071338\n",
      "within_core\n",
      "0      532914327\n",
      "1      504638607\n",
      "NaN        69991\n",
      "Name: count, dtype: int64\n",
      "종료: 2024-02-23 10:13:02.253917\n"
     ]
    }
   ],
   "source": [
    "now = datetime.datetime.now() \n",
    "print('시작:', now)\n",
    "\n",
    "\n",
    "# within_core 컬럼의 데이터 값 조사 및 카운트\n",
    "within_core_counts2 = third_result4['within_core'].value_counts()\n",
    "\n",
    "# 결과 출력\n",
    "print(within_core_counts2)\n",
    "\n",
    "now = datetime.datetime.now()\n",
    "print('종료:', now)"
   ]
  },
  {
   "cell_type": "code",
   "execution_count": 16,
   "id": "15681567",
   "metadata": {},
   "outputs": [
    {
     "data": {
      "text/html": [
       "<div>\n",
       "<style scoped>\n",
       "    .dataframe tbody tr th:only-of-type {\n",
       "        vertical-align: middle;\n",
       "    }\n",
       "\n",
       "    .dataframe tbody tr th {\n",
       "        vertical-align: top;\n",
       "    }\n",
       "\n",
       "    .dataframe thead th {\n",
       "        text-align: right;\n",
       "    }\n",
       "</style>\n",
       "<table border=\"1\" class=\"dataframe\">\n",
       "  <thead>\n",
       "    <tr style=\"text-align: right;\">\n",
       "      <th></th>\n",
       "      <th>uid</th>\n",
       "      <th>cluster_id</th>\n",
       "      <th>pubyear2</th>\n",
       "      <th>refs_uid</th>\n",
       "      <th>refs_n</th>\n",
       "      <th>within_core</th>\n",
       "    </tr>\n",
       "  </thead>\n",
       "  <tbody>\n",
       "    <tr>\n",
       "      <th>0</th>\n",
       "      <td>WOS:000325157800001</td>\n",
       "      <td>25</td>\n",
       "      <td>2013</td>\n",
       "      <td>WOS:000169875200049</td>\n",
       "      <td>59</td>\n",
       "      <td>0</td>\n",
       "    </tr>\n",
       "    <tr>\n",
       "      <th>1</th>\n",
       "      <td>WOS:000325157800001</td>\n",
       "      <td>25</td>\n",
       "      <td>2013</td>\n",
       "      <td>WOS:000187577400045</td>\n",
       "      <td>59</td>\n",
       "      <td>0</td>\n",
       "    </tr>\n",
       "    <tr>\n",
       "      <th>2</th>\n",
       "      <td>WOS:000325157800001</td>\n",
       "      <td>25</td>\n",
       "      <td>2013</td>\n",
       "      <td>WOS:000180545300005</td>\n",
       "      <td>59</td>\n",
       "      <td>0</td>\n",
       "    </tr>\n",
       "    <tr>\n",
       "      <th>3</th>\n",
       "      <td>WOS:000325157800001</td>\n",
       "      <td>25</td>\n",
       "      <td>2013</td>\n",
       "      <td>WOS:000188445200197</td>\n",
       "      <td>59</td>\n",
       "      <td>0</td>\n",
       "    </tr>\n",
       "    <tr>\n",
       "      <th>4</th>\n",
       "      <td>WOS:000325157800001</td>\n",
       "      <td>25</td>\n",
       "      <td>2013</td>\n",
       "      <td>WOS:A1972M852600031</td>\n",
       "      <td>59</td>\n",
       "      <td>0</td>\n",
       "    </tr>\n",
       "    <tr>\n",
       "      <th>...</th>\n",
       "      <td>...</td>\n",
       "      <td>...</td>\n",
       "      <td>...</td>\n",
       "      <td>...</td>\n",
       "      <td>...</td>\n",
       "      <td>...</td>\n",
       "    </tr>\n",
       "    <tr>\n",
       "      <th>1037622920</th>\n",
       "      <td>WOS:000799950200001</td>\n",
       "      <td>&lt;NA&gt;</td>\n",
       "      <td>&lt;NA&gt;</td>\n",
       "      <td>000799950200001.23</td>\n",
       "      <td>52</td>\n",
       "      <td>0</td>\n",
       "    </tr>\n",
       "    <tr>\n",
       "      <th>1037622921</th>\n",
       "      <td>WOS:000799950200001</td>\n",
       "      <td>&lt;NA&gt;</td>\n",
       "      <td>&lt;NA&gt;</td>\n",
       "      <td>000799950200001.22</td>\n",
       "      <td>52</td>\n",
       "      <td>0</td>\n",
       "    </tr>\n",
       "    <tr>\n",
       "      <th>1037622922</th>\n",
       "      <td>WOS:000799950200001</td>\n",
       "      <td>&lt;NA&gt;</td>\n",
       "      <td>&lt;NA&gt;</td>\n",
       "      <td>WOS:000316422500018</td>\n",
       "      <td>52</td>\n",
       "      <td>0</td>\n",
       "    </tr>\n",
       "    <tr>\n",
       "      <th>1037622923</th>\n",
       "      <td>WOS:000799950200001</td>\n",
       "      <td>&lt;NA&gt;</td>\n",
       "      <td>&lt;NA&gt;</td>\n",
       "      <td>000799950200001.48</td>\n",
       "      <td>52</td>\n",
       "      <td>0</td>\n",
       "    </tr>\n",
       "    <tr>\n",
       "      <th>1037622924</th>\n",
       "      <td>WOS:000799950200001</td>\n",
       "      <td>&lt;NA&gt;</td>\n",
       "      <td>&lt;NA&gt;</td>\n",
       "      <td>000799950200001.25</td>\n",
       "      <td>52</td>\n",
       "      <td>0</td>\n",
       "    </tr>\n",
       "  </tbody>\n",
       "</table>\n",
       "<p>1037622925 rows × 6 columns</p>\n",
       "</div>"
      ],
      "text/plain": [
       "                            uid  cluster_id  pubyear2             refs_uid  \\\n",
       "0           WOS:000325157800001          25      2013  WOS:000169875200049   \n",
       "1           WOS:000325157800001          25      2013  WOS:000187577400045   \n",
       "2           WOS:000325157800001          25      2013  WOS:000180545300005   \n",
       "3           WOS:000325157800001          25      2013  WOS:000188445200197   \n",
       "4           WOS:000325157800001          25      2013  WOS:A1972M852600031   \n",
       "...                         ...         ...       ...                  ...   \n",
       "1037622920  WOS:000799950200001        <NA>      <NA>   000799950200001.23   \n",
       "1037622921  WOS:000799950200001        <NA>      <NA>   000799950200001.22   \n",
       "1037622922  WOS:000799950200001        <NA>      <NA>  WOS:000316422500018   \n",
       "1037622923  WOS:000799950200001        <NA>      <NA>   000799950200001.48   \n",
       "1037622924  WOS:000799950200001        <NA>      <NA>   000799950200001.25   \n",
       "\n",
       "            refs_n within_core  \n",
       "0               59           0  \n",
       "1               59           0  \n",
       "2               59           0  \n",
       "3               59           0  \n",
       "4               59           0  \n",
       "...            ...         ...  \n",
       "1037622920      52           0  \n",
       "1037622921      52           0  \n",
       "1037622922      52           0  \n",
       "1037622923      52           0  \n",
       "1037622924      52           0  \n",
       "\n",
       "[1037622925 rows x 6 columns]"
      ]
     },
     "execution_count": 16,
     "metadata": {},
     "output_type": "execute_result"
    }
   ],
   "source": [
    "third_result4"
   ]
  },
  {
   "cell_type": "markdown",
   "id": "0054c613",
   "metadata": {},
   "source": [
    "저장하기 -> final폴더에 ."
   ]
  },
  {
   "cell_type": "code",
   "execution_count": 17,
   "id": "c8a2ba05",
   "metadata": {},
   "outputs": [
    {
     "name": "stdout",
     "output_type": "stream",
     "text": [
      "시작: 2024-02-23 10:16:46.721690\n",
      "종료: 2024-02-23 10:52:48.718635\n"
     ]
    }
   ],
   "source": [
    "#오래걸릴듯...\n",
    "now = datetime.datetime.now() \n",
    "print('시작:', now)\n",
    "\n",
    "third_result4.to_csv('./mid/third/third_result4.txt', sep='\\t', index=False)\n",
    "\n",
    "now = datetime.datetime.now()\n",
    "print('종료:', now)"
   ]
  },
  {
   "cell_type": "markdown",
   "id": "3452e84e",
   "metadata": {},
   "source": [
    "*< 작업 시 느낀점 >\n",
    "1. 비동기 쓰레드를 사용했지만, DB 요청하는 파이썬 관련 작업만 빨라질 뿐 DB에서 데이터 불러오는 쿼리 작업은 병렬처리가 안되는거같음. -> 이 부분은 주피터 노트북 워크시트를 offset 시작점을 다르게하여 여러개 돌리는거로 추출 속도 보완함.  \n",
    "2. limit 최적화 샘플링 -> 백만이나 십만이나 별차이 없어서 백만으로 함.그냥 DB에서 데이터 뽑고 로드하는게 오래걸리는거같음.  \n",
    "*더 자세한건 보고서에 담음.  "
   ]
  }
 ],
 "metadata": {
  "kernelspec": {
   "display_name": "Python 3 (ipykernel)",
   "language": "python",
   "name": "python3"
  },
  "language_info": {
   "codemirror_mode": {
    "name": "ipython",
    "version": 3
   },
   "file_extension": ".py",
   "mimetype": "text/x-python",
   "name": "python",
   "nbconvert_exporter": "python",
   "pygments_lexer": "ipython3",
   "version": "3.11.5"
  }
 },
 "nbformat": 4,
 "nbformat_minor": 5
}
